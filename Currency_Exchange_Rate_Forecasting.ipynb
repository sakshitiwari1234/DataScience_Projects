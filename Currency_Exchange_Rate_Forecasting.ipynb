{
  "nbformat": 4,
  "nbformat_minor": 0,
  "metadata": {
    "colab": {
      "provenance": [],
      "authorship_tag": "ABX9TyNjRB5gifNyvPnm5Clc1lwN",
      "include_colab_link": true
    },
    "kernelspec": {
      "name": "python3",
      "display_name": "Python 3"
    },
    "language_info": {
      "name": "python"
    }
  },
  "cells": [
    {
      "cell_type": "markdown",
      "metadata": {
        "id": "view-in-github",
        "colab_type": "text"
      },
      "source": [
        "<a href=\"https://colab.research.google.com/github/sakshitiwari1234/DataScience_Projects/blob/main/Currency_Exchange_Rate_Forecasting.ipynb\" target=\"_parent\"><img src=\"https://colab.research.google.com/assets/colab-badge.svg\" alt=\"Open In Colab\"/></a>"
      ]
    },
    {
      "cell_type": "markdown",
      "source": [
        "# Currency Exchange Rate Forecasting"
      ],
      "metadata": {
        "id": "6H9hzFYDg1sm"
      }
    },
    {
      "cell_type": "markdown",
      "source": [
        "## Overview"
      ],
      "metadata": {
        "id": "1c2JOByqg8Z-"
      }
    },
    {
      "cell_type": "markdown",
      "source": [
        "The currency conversion rate or exchange rate is an important economic indicator which affects several sectors, such as import-export businesses, foreign investment and tourism. By analyzing past data and predicting future exchange rates, we can gain valuable insights to help stakeholders reduce risk, optimize currency conversions, and design effective financial strategies. This project revolve around making analysis and predicting the currency rate exchange and its affects on various sectors."
      ],
      "metadata": {
        "id": "OqNyQOcbhAjL"
      }
    },
    {
      "cell_type": "markdown",
      "source": [
        "## What is Currency Exchange Rate ?"
      ],
      "metadata": {
        "id": "i2ky1JKzhh7A"
      }
    },
    {
      "cell_type": "markdown",
      "source": [
        "Currency exchange rate forecasting means predicting future fluctuations in the value of one currency against another. It involves the use of historical data, economic indicators, and mathematical models to make accurate predictions about the direction and magnitude of exchange rate movements.\n",
        "\n",
        "It helps individuals, businesses,  and financial institutions to anticipate market trends, mitigate risk, optimize currency conversions and plan strategic decisions."
      ],
      "metadata": {
        "id": "fc7ABJR8hAhK"
      }
    },
    {
      "cell_type": "markdown",
      "source": [
        "### Task / Problem ->"
      ],
      "metadata": {
        "id": "hwTStvAhjx8V"
      }
    },
    {
      "cell_type": "markdown",
      "source": [
        "1. The key task of this analysis is to analyze historical USD – INR exchange rate data and develop a forecasting model to predict future exchange rates.\n",
        "2. The goal is to help individuals, businesses, and financial institutions make informed decisions about foreign exchange and international trade."
      ],
      "metadata": {
        "id": "botRTJ60j3Ua"
      }
    },
    {
      "cell_type": "markdown",
      "source": [
        "Importing the libraries and getting started."
      ],
      "metadata": {
        "id": "rp-IJChEmAu8"
      }
    },
    {
      "cell_type": "code",
      "source": [
        "import numpy as np\n",
        "import pandas as pd\n",
        "import matplotlib.pyplot as plt\n",
        "import seaborn as sns\n",
        "import plotly.express as px"
      ],
      "metadata": {
        "id": "YKy-f2bgg75G"
      },
      "execution_count": null,
      "outputs": []
    },
    {
      "cell_type": "code",
      "source": [
        "data = pd.read_csv(\"/content/INR-USD.csv\")"
      ],
      "metadata": {
        "id": "GJxDGUD0mT0b"
      },
      "execution_count": null,
      "outputs": []
    },
    {
      "cell_type": "code",
      "source": [
        "data"
      ],
      "metadata": {
        "colab": {
          "base_uri": "https://localhost:8080/",
          "height": 614
        },
        "id": "kNEugI46mv3C",
        "outputId": "13fc4eaa-6f0a-4528-91d1-6280b5d12382"
      },
      "execution_count": null,
      "outputs": [
        {
          "output_type": "execute_result",
          "data": {
            "text/plain": [
              "            Date       Open       High        Low      Close  Adj Close  \\\n",
              "0     2003-12-01  45.709000  45.728001  45.449001  45.480000  45.480000   \n",
              "1     2003-12-08  45.474998  45.507999  45.352001  45.451000  45.451000   \n",
              "2     2003-12-15  45.450001  45.500000  45.332001  45.455002  45.455002   \n",
              "3     2003-12-22  45.417000  45.549000  45.296001  45.507999  45.507999   \n",
              "4     2003-12-29  45.439999  45.645000  45.421001  45.560001  45.560001   \n",
              "...          ...        ...        ...        ...        ...        ...   \n",
              "1011  2023-04-17  81.844803  82.375504  81.844803  82.140900  82.140900   \n",
              "1012  2023-04-24  82.054802  82.154900  81.603996  81.745399  81.745399   \n",
              "1013  2023-05-01  81.744797  81.950996  81.616997  81.716103  81.716103   \n",
              "1014  2023-05-08  81.729797  82.148499  81.673401  81.787102  81.787102   \n",
              "1015  2023-05-10  82.037003  82.087502  81.884003  81.930000  81.930000   \n",
              "\n",
              "      Volume  \n",
              "0        0.0  \n",
              "1        0.0  \n",
              "2        0.0  \n",
              "3        0.0  \n",
              "4        0.0  \n",
              "...      ...  \n",
              "1011     0.0  \n",
              "1012     0.0  \n",
              "1013     0.0  \n",
              "1014     0.0  \n",
              "1015     0.0  \n",
              "\n",
              "[1016 rows x 7 columns]"
            ],
            "text/html": [
              "\n",
              "  <div id=\"df-4ec0c0a7-385f-40c6-bdf4-45766437eb79\" class=\"colab-df-container\">\n",
              "    <div>\n",
              "<style scoped>\n",
              "    .dataframe tbody tr th:only-of-type {\n",
              "        vertical-align: middle;\n",
              "    }\n",
              "\n",
              "    .dataframe tbody tr th {\n",
              "        vertical-align: top;\n",
              "    }\n",
              "\n",
              "    .dataframe thead th {\n",
              "        text-align: right;\n",
              "    }\n",
              "</style>\n",
              "<table border=\"1\" class=\"dataframe\">\n",
              "  <thead>\n",
              "    <tr style=\"text-align: right;\">\n",
              "      <th></th>\n",
              "      <th>Date</th>\n",
              "      <th>Open</th>\n",
              "      <th>High</th>\n",
              "      <th>Low</th>\n",
              "      <th>Close</th>\n",
              "      <th>Adj Close</th>\n",
              "      <th>Volume</th>\n",
              "    </tr>\n",
              "  </thead>\n",
              "  <tbody>\n",
              "    <tr>\n",
              "      <th>0</th>\n",
              "      <td>2003-12-01</td>\n",
              "      <td>45.709000</td>\n",
              "      <td>45.728001</td>\n",
              "      <td>45.449001</td>\n",
              "      <td>45.480000</td>\n",
              "      <td>45.480000</td>\n",
              "      <td>0.0</td>\n",
              "    </tr>\n",
              "    <tr>\n",
              "      <th>1</th>\n",
              "      <td>2003-12-08</td>\n",
              "      <td>45.474998</td>\n",
              "      <td>45.507999</td>\n",
              "      <td>45.352001</td>\n",
              "      <td>45.451000</td>\n",
              "      <td>45.451000</td>\n",
              "      <td>0.0</td>\n",
              "    </tr>\n",
              "    <tr>\n",
              "      <th>2</th>\n",
              "      <td>2003-12-15</td>\n",
              "      <td>45.450001</td>\n",
              "      <td>45.500000</td>\n",
              "      <td>45.332001</td>\n",
              "      <td>45.455002</td>\n",
              "      <td>45.455002</td>\n",
              "      <td>0.0</td>\n",
              "    </tr>\n",
              "    <tr>\n",
              "      <th>3</th>\n",
              "      <td>2003-12-22</td>\n",
              "      <td>45.417000</td>\n",
              "      <td>45.549000</td>\n",
              "      <td>45.296001</td>\n",
              "      <td>45.507999</td>\n",
              "      <td>45.507999</td>\n",
              "      <td>0.0</td>\n",
              "    </tr>\n",
              "    <tr>\n",
              "      <th>4</th>\n",
              "      <td>2003-12-29</td>\n",
              "      <td>45.439999</td>\n",
              "      <td>45.645000</td>\n",
              "      <td>45.421001</td>\n",
              "      <td>45.560001</td>\n",
              "      <td>45.560001</td>\n",
              "      <td>0.0</td>\n",
              "    </tr>\n",
              "    <tr>\n",
              "      <th>...</th>\n",
              "      <td>...</td>\n",
              "      <td>...</td>\n",
              "      <td>...</td>\n",
              "      <td>...</td>\n",
              "      <td>...</td>\n",
              "      <td>...</td>\n",
              "      <td>...</td>\n",
              "    </tr>\n",
              "    <tr>\n",
              "      <th>1011</th>\n",
              "      <td>2023-04-17</td>\n",
              "      <td>81.844803</td>\n",
              "      <td>82.375504</td>\n",
              "      <td>81.844803</td>\n",
              "      <td>82.140900</td>\n",
              "      <td>82.140900</td>\n",
              "      <td>0.0</td>\n",
              "    </tr>\n",
              "    <tr>\n",
              "      <th>1012</th>\n",
              "      <td>2023-04-24</td>\n",
              "      <td>82.054802</td>\n",
              "      <td>82.154900</td>\n",
              "      <td>81.603996</td>\n",
              "      <td>81.745399</td>\n",
              "      <td>81.745399</td>\n",
              "      <td>0.0</td>\n",
              "    </tr>\n",
              "    <tr>\n",
              "      <th>1013</th>\n",
              "      <td>2023-05-01</td>\n",
              "      <td>81.744797</td>\n",
              "      <td>81.950996</td>\n",
              "      <td>81.616997</td>\n",
              "      <td>81.716103</td>\n",
              "      <td>81.716103</td>\n",
              "      <td>0.0</td>\n",
              "    </tr>\n",
              "    <tr>\n",
              "      <th>1014</th>\n",
              "      <td>2023-05-08</td>\n",
              "      <td>81.729797</td>\n",
              "      <td>82.148499</td>\n",
              "      <td>81.673401</td>\n",
              "      <td>81.787102</td>\n",
              "      <td>81.787102</td>\n",
              "      <td>0.0</td>\n",
              "    </tr>\n",
              "    <tr>\n",
              "      <th>1015</th>\n",
              "      <td>2023-05-10</td>\n",
              "      <td>82.037003</td>\n",
              "      <td>82.087502</td>\n",
              "      <td>81.884003</td>\n",
              "      <td>81.930000</td>\n",
              "      <td>81.930000</td>\n",
              "      <td>0.0</td>\n",
              "    </tr>\n",
              "  </tbody>\n",
              "</table>\n",
              "<p>1016 rows × 7 columns</p>\n",
              "</div>\n",
              "    <div class=\"colab-df-buttons\">\n",
              "\n",
              "  <div class=\"colab-df-container\">\n",
              "    <button class=\"colab-df-convert\" onclick=\"convertToInteractive('df-4ec0c0a7-385f-40c6-bdf4-45766437eb79')\"\n",
              "            title=\"Convert this dataframe to an interactive table.\"\n",
              "            style=\"display:none;\">\n",
              "\n",
              "  <svg xmlns=\"http://www.w3.org/2000/svg\" height=\"24px\" viewBox=\"0 -960 960 960\">\n",
              "    <path d=\"M120-120v-720h720v720H120Zm60-500h600v-160H180v160Zm220 220h160v-160H400v160Zm0 220h160v-160H400v160ZM180-400h160v-160H180v160Zm440 0h160v-160H620v160ZM180-180h160v-160H180v160Zm440 0h160v-160H620v160Z\"/>\n",
              "  </svg>\n",
              "    </button>\n",
              "\n",
              "  <style>\n",
              "    .colab-df-container {\n",
              "      display:flex;\n",
              "      gap: 12px;\n",
              "    }\n",
              "\n",
              "    .colab-df-convert {\n",
              "      background-color: #E8F0FE;\n",
              "      border: none;\n",
              "      border-radius: 50%;\n",
              "      cursor: pointer;\n",
              "      display: none;\n",
              "      fill: #1967D2;\n",
              "      height: 32px;\n",
              "      padding: 0 0 0 0;\n",
              "      width: 32px;\n",
              "    }\n",
              "\n",
              "    .colab-df-convert:hover {\n",
              "      background-color: #E2EBFA;\n",
              "      box-shadow: 0px 1px 2px rgba(60, 64, 67, 0.3), 0px 1px 3px 1px rgba(60, 64, 67, 0.15);\n",
              "      fill: #174EA6;\n",
              "    }\n",
              "\n",
              "    .colab-df-buttons div {\n",
              "      margin-bottom: 4px;\n",
              "    }\n",
              "\n",
              "    [theme=dark] .colab-df-convert {\n",
              "      background-color: #3B4455;\n",
              "      fill: #D2E3FC;\n",
              "    }\n",
              "\n",
              "    [theme=dark] .colab-df-convert:hover {\n",
              "      background-color: #434B5C;\n",
              "      box-shadow: 0px 1px 3px 1px rgba(0, 0, 0, 0.15);\n",
              "      filter: drop-shadow(0px 1px 2px rgba(0, 0, 0, 0.3));\n",
              "      fill: #FFFFFF;\n",
              "    }\n",
              "  </style>\n",
              "\n",
              "    <script>\n",
              "      const buttonEl =\n",
              "        document.querySelector('#df-4ec0c0a7-385f-40c6-bdf4-45766437eb79 button.colab-df-convert');\n",
              "      buttonEl.style.display =\n",
              "        google.colab.kernel.accessAllowed ? 'block' : 'none';\n",
              "\n",
              "      async function convertToInteractive(key) {\n",
              "        const element = document.querySelector('#df-4ec0c0a7-385f-40c6-bdf4-45766437eb79');\n",
              "        const dataTable =\n",
              "          await google.colab.kernel.invokeFunction('convertToInteractive',\n",
              "                                                    [key], {});\n",
              "        if (!dataTable) return;\n",
              "\n",
              "        const docLinkHtml = 'Like what you see? Visit the ' +\n",
              "          '<a target=\"_blank\" href=https://colab.research.google.com/notebooks/data_table.ipynb>data table notebook</a>'\n",
              "          + ' to learn more about interactive tables.';\n",
              "        element.innerHTML = '';\n",
              "        dataTable['output_type'] = 'display_data';\n",
              "        await google.colab.output.renderOutput(dataTable, element);\n",
              "        const docLink = document.createElement('div');\n",
              "        docLink.innerHTML = docLinkHtml;\n",
              "        element.appendChild(docLink);\n",
              "      }\n",
              "    </script>\n",
              "  </div>\n",
              "\n",
              "\n",
              "<div id=\"df-5970af3a-1eb9-44ed-b055-846bf62d80b4\">\n",
              "  <button class=\"colab-df-quickchart\" onclick=\"quickchart('df-5970af3a-1eb9-44ed-b055-846bf62d80b4')\"\n",
              "            title=\"Suggest charts\"\n",
              "            style=\"display:none;\">\n",
              "\n",
              "<svg xmlns=\"http://www.w3.org/2000/svg\" height=\"24px\"viewBox=\"0 0 24 24\"\n",
              "     width=\"24px\">\n",
              "    <g>\n",
              "        <path d=\"M19 3H5c-1.1 0-2 .9-2 2v14c0 1.1.9 2 2 2h14c1.1 0 2-.9 2-2V5c0-1.1-.9-2-2-2zM9 17H7v-7h2v7zm4 0h-2V7h2v10zm4 0h-2v-4h2v4z\"/>\n",
              "    </g>\n",
              "</svg>\n",
              "  </button>\n",
              "\n",
              "<style>\n",
              "  .colab-df-quickchart {\n",
              "      --bg-color: #E8F0FE;\n",
              "      --fill-color: #1967D2;\n",
              "      --hover-bg-color: #E2EBFA;\n",
              "      --hover-fill-color: #174EA6;\n",
              "      --disabled-fill-color: #AAA;\n",
              "      --disabled-bg-color: #DDD;\n",
              "  }\n",
              "\n",
              "  [theme=dark] .colab-df-quickchart {\n",
              "      --bg-color: #3B4455;\n",
              "      --fill-color: #D2E3FC;\n",
              "      --hover-bg-color: #434B5C;\n",
              "      --hover-fill-color: #FFFFFF;\n",
              "      --disabled-bg-color: #3B4455;\n",
              "      --disabled-fill-color: #666;\n",
              "  }\n",
              "\n",
              "  .colab-df-quickchart {\n",
              "    background-color: var(--bg-color);\n",
              "    border: none;\n",
              "    border-radius: 50%;\n",
              "    cursor: pointer;\n",
              "    display: none;\n",
              "    fill: var(--fill-color);\n",
              "    height: 32px;\n",
              "    padding: 0;\n",
              "    width: 32px;\n",
              "  }\n",
              "\n",
              "  .colab-df-quickchart:hover {\n",
              "    background-color: var(--hover-bg-color);\n",
              "    box-shadow: 0 1px 2px rgba(60, 64, 67, 0.3), 0 1px 3px 1px rgba(60, 64, 67, 0.15);\n",
              "    fill: var(--button-hover-fill-color);\n",
              "  }\n",
              "\n",
              "  .colab-df-quickchart-complete:disabled,\n",
              "  .colab-df-quickchart-complete:disabled:hover {\n",
              "    background-color: var(--disabled-bg-color);\n",
              "    fill: var(--disabled-fill-color);\n",
              "    box-shadow: none;\n",
              "  }\n",
              "\n",
              "  .colab-df-spinner {\n",
              "    border: 2px solid var(--fill-color);\n",
              "    border-color: transparent;\n",
              "    border-bottom-color: var(--fill-color);\n",
              "    animation:\n",
              "      spin 1s steps(1) infinite;\n",
              "  }\n",
              "\n",
              "  @keyframes spin {\n",
              "    0% {\n",
              "      border-color: transparent;\n",
              "      border-bottom-color: var(--fill-color);\n",
              "      border-left-color: var(--fill-color);\n",
              "    }\n",
              "    20% {\n",
              "      border-color: transparent;\n",
              "      border-left-color: var(--fill-color);\n",
              "      border-top-color: var(--fill-color);\n",
              "    }\n",
              "    30% {\n",
              "      border-color: transparent;\n",
              "      border-left-color: var(--fill-color);\n",
              "      border-top-color: var(--fill-color);\n",
              "      border-right-color: var(--fill-color);\n",
              "    }\n",
              "    40% {\n",
              "      border-color: transparent;\n",
              "      border-right-color: var(--fill-color);\n",
              "      border-top-color: var(--fill-color);\n",
              "    }\n",
              "    60% {\n",
              "      border-color: transparent;\n",
              "      border-right-color: var(--fill-color);\n",
              "    }\n",
              "    80% {\n",
              "      border-color: transparent;\n",
              "      border-right-color: var(--fill-color);\n",
              "      border-bottom-color: var(--fill-color);\n",
              "    }\n",
              "    90% {\n",
              "      border-color: transparent;\n",
              "      border-bottom-color: var(--fill-color);\n",
              "    }\n",
              "  }\n",
              "</style>\n",
              "\n",
              "  <script>\n",
              "    async function quickchart(key) {\n",
              "      const quickchartButtonEl =\n",
              "        document.querySelector('#' + key + ' button');\n",
              "      quickchartButtonEl.disabled = true;  // To prevent multiple clicks.\n",
              "      quickchartButtonEl.classList.add('colab-df-spinner');\n",
              "      try {\n",
              "        const charts = await google.colab.kernel.invokeFunction(\n",
              "            'suggestCharts', [key], {});\n",
              "      } catch (error) {\n",
              "        console.error('Error during call to suggestCharts:', error);\n",
              "      }\n",
              "      quickchartButtonEl.classList.remove('colab-df-spinner');\n",
              "      quickchartButtonEl.classList.add('colab-df-quickchart-complete');\n",
              "    }\n",
              "    (() => {\n",
              "      let quickchartButtonEl =\n",
              "        document.querySelector('#df-5970af3a-1eb9-44ed-b055-846bf62d80b4 button');\n",
              "      quickchartButtonEl.style.display =\n",
              "        google.colab.kernel.accessAllowed ? 'block' : 'none';\n",
              "    })();\n",
              "  </script>\n",
              "</div>\n",
              "\n",
              "  <div id=\"id_62ce2635-5652-4857-bae0-fc417793f93d\">\n",
              "    <style>\n",
              "      .colab-df-generate {\n",
              "        background-color: #E8F0FE;\n",
              "        border: none;\n",
              "        border-radius: 50%;\n",
              "        cursor: pointer;\n",
              "        display: none;\n",
              "        fill: #1967D2;\n",
              "        height: 32px;\n",
              "        padding: 0 0 0 0;\n",
              "        width: 32px;\n",
              "      }\n",
              "\n",
              "      .colab-df-generate:hover {\n",
              "        background-color: #E2EBFA;\n",
              "        box-shadow: 0px 1px 2px rgba(60, 64, 67, 0.3), 0px 1px 3px 1px rgba(60, 64, 67, 0.15);\n",
              "        fill: #174EA6;\n",
              "      }\n",
              "\n",
              "      [theme=dark] .colab-df-generate {\n",
              "        background-color: #3B4455;\n",
              "        fill: #D2E3FC;\n",
              "      }\n",
              "\n",
              "      [theme=dark] .colab-df-generate:hover {\n",
              "        background-color: #434B5C;\n",
              "        box-shadow: 0px 1px 3px 1px rgba(0, 0, 0, 0.15);\n",
              "        filter: drop-shadow(0px 1px 2px rgba(0, 0, 0, 0.3));\n",
              "        fill: #FFFFFF;\n",
              "      }\n",
              "    </style>\n",
              "    <button class=\"colab-df-generate\" onclick=\"generateWithVariable('data')\"\n",
              "            title=\"Generate code using this dataframe.\"\n",
              "            style=\"display:none;\">\n",
              "\n",
              "  <svg xmlns=\"http://www.w3.org/2000/svg\" height=\"24px\"viewBox=\"0 0 24 24\"\n",
              "       width=\"24px\">\n",
              "    <path d=\"M7,19H8.4L18.45,9,17,7.55,7,17.6ZM5,21V16.75L18.45,3.32a2,2,0,0,1,2.83,0l1.4,1.43a1.91,1.91,0,0,1,.58,1.4,1.91,1.91,0,0,1-.58,1.4L9.25,21ZM18.45,9,17,7.55Zm-12,3A5.31,5.31,0,0,0,4.9,8.1,5.31,5.31,0,0,0,1,6.5,5.31,5.31,0,0,0,4.9,4.9,5.31,5.31,0,0,0,6.5,1,5.31,5.31,0,0,0,8.1,4.9,5.31,5.31,0,0,0,12,6.5,5.46,5.46,0,0,0,6.5,12Z\"/>\n",
              "  </svg>\n",
              "    </button>\n",
              "    <script>\n",
              "      (() => {\n",
              "      const buttonEl =\n",
              "        document.querySelector('#id_62ce2635-5652-4857-bae0-fc417793f93d button.colab-df-generate');\n",
              "      buttonEl.style.display =\n",
              "        google.colab.kernel.accessAllowed ? 'block' : 'none';\n",
              "\n",
              "      buttonEl.onclick = () => {\n",
              "        google.colab.notebook.generateWithVariable('data');\n",
              "      }\n",
              "      })();\n",
              "    </script>\n",
              "  </div>\n",
              "\n",
              "    </div>\n",
              "  </div>\n"
            ],
            "application/vnd.google.colaboratory.intrinsic+json": {
              "type": "dataframe",
              "variable_name": "data",
              "summary": "{\n  \"name\": \"data\",\n  \"rows\": 1016,\n  \"fields\": [\n    {\n      \"column\": \"Date\",\n      \"properties\": {\n        \"dtype\": \"object\",\n        \"num_unique_values\": 1016,\n        \"samples\": [\n          \"2018-05-07\",\n          \"2013-11-11\",\n          \"2007-12-10\"\n        ],\n        \"semantic_type\": \"\",\n        \"description\": \"\"\n      }\n    },\n    {\n      \"column\": \"Open\",\n      \"properties\": {\n        \"dtype\": \"number\",\n        \"std\": 12.614634787446647,\n        \"min\": 38.995998,\n        \"max\": 82.917999,\n        \"num_unique_values\": 980,\n        \"samples\": [\n          71.148003,\n          53.805,\n          46.459999\n        ],\n        \"semantic_type\": \"\",\n        \"description\": \"\"\n      }\n    },\n    {\n      \"column\": \"High\",\n      \"properties\": {\n        \"dtype\": \"number\",\n        \"std\": 12.716632346269357,\n        \"min\": 39.334999,\n        \"max\": 83.386002,\n        \"num_unique_values\": 968,\n        \"samples\": [\n          64.263,\n          51.252998,\n          52.720001\n        ],\n        \"semantic_type\": \"\",\n        \"description\": \"\"\n      }\n    },\n    {\n      \"column\": \"Low\",\n      \"properties\": {\n        \"dtype\": \"number\",\n        \"std\": 12.565278645627455,\n        \"min\": 38.979,\n        \"max\": 82.563004,\n        \"num_unique_values\": 934,\n        \"samples\": [\n          46.202999,\n          43.259998,\n          39.646999\n        ],\n        \"semantic_type\": \"\",\n        \"description\": \"\"\n      }\n    },\n    {\n      \"column\": \"Close\",\n      \"properties\": {\n        \"dtype\": \"number\",\n        \"std\": 12.6574070301971,\n        \"min\": 39.044998,\n        \"max\": 82.932999,\n        \"num_unique_values\": 954,\n        \"samples\": [\n          39.805,\n          53.792999,\n          67.974998\n        ],\n        \"semantic_type\": \"\",\n        \"description\": \"\"\n      }\n    },\n    {\n      \"column\": \"Adj Close\",\n      \"properties\": {\n        \"dtype\": \"number\",\n        \"std\": 12.6574070301971,\n        \"min\": 39.044998,\n        \"max\": 82.932999,\n        \"num_unique_values\": 954,\n        \"samples\": [\n          39.805,\n          53.792999,\n          67.974998\n        ],\n        \"semantic_type\": \"\",\n        \"description\": \"\"\n      }\n    },\n    {\n      \"column\": \"Volume\",\n      \"properties\": {\n        \"dtype\": \"number\",\n        \"std\": 0.0,\n        \"min\": 0.0,\n        \"max\": 0.0,\n        \"num_unique_values\": 1,\n        \"samples\": [\n          0.0\n        ],\n        \"semantic_type\": \"\",\n        \"description\": \"\"\n      }\n    }\n  ]\n}"
            }
          },
          "metadata": {},
          "execution_count": 4
        }
      ]
    },
    {
      "cell_type": "markdown",
      "source": [
        "chcking if there is any null value or not."
      ],
      "metadata": {
        "id": "DgjN9x1Fy2bO"
      }
    },
    {
      "cell_type": "code",
      "source": [
        "data.isnull().sum()"
      ],
      "metadata": {
        "colab": {
          "base_uri": "https://localhost:8080/"
        },
        "id": "bUM2ImFVmyfj",
        "outputId": "8e99b5a8-e464-4f2d-9bad-552b6c7c4314"
      },
      "execution_count": null,
      "outputs": [
        {
          "output_type": "execute_result",
          "data": {
            "text/plain": [
              "Date         0\n",
              "Open         3\n",
              "High         3\n",
              "Low          3\n",
              "Close        3\n",
              "Adj Close    3\n",
              "Volume       3\n",
              "dtype: int64"
            ]
          },
          "metadata": {},
          "execution_count": 5
        }
      ]
    },
    {
      "cell_type": "code",
      "source": [
        "# rpelacing the null value using dropna function\n",
        "data.dropna(inplace =True)"
      ],
      "metadata": {
        "id": "2BoUqQZczT27"
      },
      "execution_count": null,
      "outputs": []
    },
    {
      "cell_type": "code",
      "source": [
        "data.isnull().sum()"
      ],
      "metadata": {
        "colab": {
          "base_uri": "https://localhost:8080/"
        },
        "id": "XAkqAL7MzsJD",
        "outputId": "2c9d528b-2518-44b6-ebbb-7cfb855e3204"
      },
      "execution_count": null,
      "outputs": [
        {
          "output_type": "execute_result",
          "data": {
            "text/plain": [
              "Date         0\n",
              "Open         0\n",
              "High         0\n",
              "Low          0\n",
              "Close        0\n",
              "Adj Close    0\n",
              "Volume       0\n",
              "dtype: int64"
            ]
          },
          "metadata": {},
          "execution_count": 8
        }
      ]
    },
    {
      "cell_type": "code",
      "source": [
        "# A descriptive statistics of the mentione data is as follows.\n",
        "\n",
        "data.describe()"
      ],
      "metadata": {
        "colab": {
          "base_uri": "https://localhost:8080/",
          "height": 320
        },
        "id": "Oj-tTDk7z1Fy",
        "outputId": "ce2d6998-2c79-4a40-83a4-b899d3ec6aaf"
      },
      "execution_count": null,
      "outputs": [
        {
          "output_type": "execute_result",
          "data": {
            "text/plain": [
              "              Open         High          Low        Close    Adj Close  Volume\n",
              "count  1013.000000  1013.000000  1013.000000  1013.000000  1013.000000  1013.0\n",
              "mean     58.035208    58.506681    57.654706    58.056509    58.056509     0.0\n",
              "std      12.614635    12.716632    12.565279    12.657407    12.657407     0.0\n",
              "min      38.995998    39.334999    38.979000    39.044998    39.044998     0.0\n",
              "25%      45.508999    45.775002    45.231998    45.498001    45.498001     0.0\n",
              "50%      59.702999    60.342999    59.209999    59.840000    59.840000     0.0\n",
              "75%      68.508499    69.099998    68.250000    68.538002    68.538002     0.0\n",
              "max      82.917999    83.386002    82.563004    82.932999    82.932999     0.0"
            ],
            "text/html": [
              "\n",
              "  <div id=\"df-9ca6fe7e-ccde-4ae4-b361-7e843eedca39\" class=\"colab-df-container\">\n",
              "    <div>\n",
              "<style scoped>\n",
              "    .dataframe tbody tr th:only-of-type {\n",
              "        vertical-align: middle;\n",
              "    }\n",
              "\n",
              "    .dataframe tbody tr th {\n",
              "        vertical-align: top;\n",
              "    }\n",
              "\n",
              "    .dataframe thead th {\n",
              "        text-align: right;\n",
              "    }\n",
              "</style>\n",
              "<table border=\"1\" class=\"dataframe\">\n",
              "  <thead>\n",
              "    <tr style=\"text-align: right;\">\n",
              "      <th></th>\n",
              "      <th>Open</th>\n",
              "      <th>High</th>\n",
              "      <th>Low</th>\n",
              "      <th>Close</th>\n",
              "      <th>Adj Close</th>\n",
              "      <th>Volume</th>\n",
              "    </tr>\n",
              "  </thead>\n",
              "  <tbody>\n",
              "    <tr>\n",
              "      <th>count</th>\n",
              "      <td>1013.000000</td>\n",
              "      <td>1013.000000</td>\n",
              "      <td>1013.000000</td>\n",
              "      <td>1013.000000</td>\n",
              "      <td>1013.000000</td>\n",
              "      <td>1013.0</td>\n",
              "    </tr>\n",
              "    <tr>\n",
              "      <th>mean</th>\n",
              "      <td>58.035208</td>\n",
              "      <td>58.506681</td>\n",
              "      <td>57.654706</td>\n",
              "      <td>58.056509</td>\n",
              "      <td>58.056509</td>\n",
              "      <td>0.0</td>\n",
              "    </tr>\n",
              "    <tr>\n",
              "      <th>std</th>\n",
              "      <td>12.614635</td>\n",
              "      <td>12.716632</td>\n",
              "      <td>12.565279</td>\n",
              "      <td>12.657407</td>\n",
              "      <td>12.657407</td>\n",
              "      <td>0.0</td>\n",
              "    </tr>\n",
              "    <tr>\n",
              "      <th>min</th>\n",
              "      <td>38.995998</td>\n",
              "      <td>39.334999</td>\n",
              "      <td>38.979000</td>\n",
              "      <td>39.044998</td>\n",
              "      <td>39.044998</td>\n",
              "      <td>0.0</td>\n",
              "    </tr>\n",
              "    <tr>\n",
              "      <th>25%</th>\n",
              "      <td>45.508999</td>\n",
              "      <td>45.775002</td>\n",
              "      <td>45.231998</td>\n",
              "      <td>45.498001</td>\n",
              "      <td>45.498001</td>\n",
              "      <td>0.0</td>\n",
              "    </tr>\n",
              "    <tr>\n",
              "      <th>50%</th>\n",
              "      <td>59.702999</td>\n",
              "      <td>60.342999</td>\n",
              "      <td>59.209999</td>\n",
              "      <td>59.840000</td>\n",
              "      <td>59.840000</td>\n",
              "      <td>0.0</td>\n",
              "    </tr>\n",
              "    <tr>\n",
              "      <th>75%</th>\n",
              "      <td>68.508499</td>\n",
              "      <td>69.099998</td>\n",
              "      <td>68.250000</td>\n",
              "      <td>68.538002</td>\n",
              "      <td>68.538002</td>\n",
              "      <td>0.0</td>\n",
              "    </tr>\n",
              "    <tr>\n",
              "      <th>max</th>\n",
              "      <td>82.917999</td>\n",
              "      <td>83.386002</td>\n",
              "      <td>82.563004</td>\n",
              "      <td>82.932999</td>\n",
              "      <td>82.932999</td>\n",
              "      <td>0.0</td>\n",
              "    </tr>\n",
              "  </tbody>\n",
              "</table>\n",
              "</div>\n",
              "    <div class=\"colab-df-buttons\">\n",
              "\n",
              "  <div class=\"colab-df-container\">\n",
              "    <button class=\"colab-df-convert\" onclick=\"convertToInteractive('df-9ca6fe7e-ccde-4ae4-b361-7e843eedca39')\"\n",
              "            title=\"Convert this dataframe to an interactive table.\"\n",
              "            style=\"display:none;\">\n",
              "\n",
              "  <svg xmlns=\"http://www.w3.org/2000/svg\" height=\"24px\" viewBox=\"0 -960 960 960\">\n",
              "    <path d=\"M120-120v-720h720v720H120Zm60-500h600v-160H180v160Zm220 220h160v-160H400v160Zm0 220h160v-160H400v160ZM180-400h160v-160H180v160Zm440 0h160v-160H620v160ZM180-180h160v-160H180v160Zm440 0h160v-160H620v160Z\"/>\n",
              "  </svg>\n",
              "    </button>\n",
              "\n",
              "  <style>\n",
              "    .colab-df-container {\n",
              "      display:flex;\n",
              "      gap: 12px;\n",
              "    }\n",
              "\n",
              "    .colab-df-convert {\n",
              "      background-color: #E8F0FE;\n",
              "      border: none;\n",
              "      border-radius: 50%;\n",
              "      cursor: pointer;\n",
              "      display: none;\n",
              "      fill: #1967D2;\n",
              "      height: 32px;\n",
              "      padding: 0 0 0 0;\n",
              "      width: 32px;\n",
              "    }\n",
              "\n",
              "    .colab-df-convert:hover {\n",
              "      background-color: #E2EBFA;\n",
              "      box-shadow: 0px 1px 2px rgba(60, 64, 67, 0.3), 0px 1px 3px 1px rgba(60, 64, 67, 0.15);\n",
              "      fill: #174EA6;\n",
              "    }\n",
              "\n",
              "    .colab-df-buttons div {\n",
              "      margin-bottom: 4px;\n",
              "    }\n",
              "\n",
              "    [theme=dark] .colab-df-convert {\n",
              "      background-color: #3B4455;\n",
              "      fill: #D2E3FC;\n",
              "    }\n",
              "\n",
              "    [theme=dark] .colab-df-convert:hover {\n",
              "      background-color: #434B5C;\n",
              "      box-shadow: 0px 1px 3px 1px rgba(0, 0, 0, 0.15);\n",
              "      filter: drop-shadow(0px 1px 2px rgba(0, 0, 0, 0.3));\n",
              "      fill: #FFFFFF;\n",
              "    }\n",
              "  </style>\n",
              "\n",
              "    <script>\n",
              "      const buttonEl =\n",
              "        document.querySelector('#df-9ca6fe7e-ccde-4ae4-b361-7e843eedca39 button.colab-df-convert');\n",
              "      buttonEl.style.display =\n",
              "        google.colab.kernel.accessAllowed ? 'block' : 'none';\n",
              "\n",
              "      async function convertToInteractive(key) {\n",
              "        const element = document.querySelector('#df-9ca6fe7e-ccde-4ae4-b361-7e843eedca39');\n",
              "        const dataTable =\n",
              "          await google.colab.kernel.invokeFunction('convertToInteractive',\n",
              "                                                    [key], {});\n",
              "        if (!dataTable) return;\n",
              "\n",
              "        const docLinkHtml = 'Like what you see? Visit the ' +\n",
              "          '<a target=\"_blank\" href=https://colab.research.google.com/notebooks/data_table.ipynb>data table notebook</a>'\n",
              "          + ' to learn more about interactive tables.';\n",
              "        element.innerHTML = '';\n",
              "        dataTable['output_type'] = 'display_data';\n",
              "        await google.colab.output.renderOutput(dataTable, element);\n",
              "        const docLink = document.createElement('div');\n",
              "        docLink.innerHTML = docLinkHtml;\n",
              "        element.appendChild(docLink);\n",
              "      }\n",
              "    </script>\n",
              "  </div>\n",
              "\n",
              "\n",
              "<div id=\"df-a92262f2-29d0-4b46-9557-9561bb06807f\">\n",
              "  <button class=\"colab-df-quickchart\" onclick=\"quickchart('df-a92262f2-29d0-4b46-9557-9561bb06807f')\"\n",
              "            title=\"Suggest charts\"\n",
              "            style=\"display:none;\">\n",
              "\n",
              "<svg xmlns=\"http://www.w3.org/2000/svg\" height=\"24px\"viewBox=\"0 0 24 24\"\n",
              "     width=\"24px\">\n",
              "    <g>\n",
              "        <path d=\"M19 3H5c-1.1 0-2 .9-2 2v14c0 1.1.9 2 2 2h14c1.1 0 2-.9 2-2V5c0-1.1-.9-2-2-2zM9 17H7v-7h2v7zm4 0h-2V7h2v10zm4 0h-2v-4h2v4z\"/>\n",
              "    </g>\n",
              "</svg>\n",
              "  </button>\n",
              "\n",
              "<style>\n",
              "  .colab-df-quickchart {\n",
              "      --bg-color: #E8F0FE;\n",
              "      --fill-color: #1967D2;\n",
              "      --hover-bg-color: #E2EBFA;\n",
              "      --hover-fill-color: #174EA6;\n",
              "      --disabled-fill-color: #AAA;\n",
              "      --disabled-bg-color: #DDD;\n",
              "  }\n",
              "\n",
              "  [theme=dark] .colab-df-quickchart {\n",
              "      --bg-color: #3B4455;\n",
              "      --fill-color: #D2E3FC;\n",
              "      --hover-bg-color: #434B5C;\n",
              "      --hover-fill-color: #FFFFFF;\n",
              "      --disabled-bg-color: #3B4455;\n",
              "      --disabled-fill-color: #666;\n",
              "  }\n",
              "\n",
              "  .colab-df-quickchart {\n",
              "    background-color: var(--bg-color);\n",
              "    border: none;\n",
              "    border-radius: 50%;\n",
              "    cursor: pointer;\n",
              "    display: none;\n",
              "    fill: var(--fill-color);\n",
              "    height: 32px;\n",
              "    padding: 0;\n",
              "    width: 32px;\n",
              "  }\n",
              "\n",
              "  .colab-df-quickchart:hover {\n",
              "    background-color: var(--hover-bg-color);\n",
              "    box-shadow: 0 1px 2px rgba(60, 64, 67, 0.3), 0 1px 3px 1px rgba(60, 64, 67, 0.15);\n",
              "    fill: var(--button-hover-fill-color);\n",
              "  }\n",
              "\n",
              "  .colab-df-quickchart-complete:disabled,\n",
              "  .colab-df-quickchart-complete:disabled:hover {\n",
              "    background-color: var(--disabled-bg-color);\n",
              "    fill: var(--disabled-fill-color);\n",
              "    box-shadow: none;\n",
              "  }\n",
              "\n",
              "  .colab-df-spinner {\n",
              "    border: 2px solid var(--fill-color);\n",
              "    border-color: transparent;\n",
              "    border-bottom-color: var(--fill-color);\n",
              "    animation:\n",
              "      spin 1s steps(1) infinite;\n",
              "  }\n",
              "\n",
              "  @keyframes spin {\n",
              "    0% {\n",
              "      border-color: transparent;\n",
              "      border-bottom-color: var(--fill-color);\n",
              "      border-left-color: var(--fill-color);\n",
              "    }\n",
              "    20% {\n",
              "      border-color: transparent;\n",
              "      border-left-color: var(--fill-color);\n",
              "      border-top-color: var(--fill-color);\n",
              "    }\n",
              "    30% {\n",
              "      border-color: transparent;\n",
              "      border-left-color: var(--fill-color);\n",
              "      border-top-color: var(--fill-color);\n",
              "      border-right-color: var(--fill-color);\n",
              "    }\n",
              "    40% {\n",
              "      border-color: transparent;\n",
              "      border-right-color: var(--fill-color);\n",
              "      border-top-color: var(--fill-color);\n",
              "    }\n",
              "    60% {\n",
              "      border-color: transparent;\n",
              "      border-right-color: var(--fill-color);\n",
              "    }\n",
              "    80% {\n",
              "      border-color: transparent;\n",
              "      border-right-color: var(--fill-color);\n",
              "      border-bottom-color: var(--fill-color);\n",
              "    }\n",
              "    90% {\n",
              "      border-color: transparent;\n",
              "      border-bottom-color: var(--fill-color);\n",
              "    }\n",
              "  }\n",
              "</style>\n",
              "\n",
              "  <script>\n",
              "    async function quickchart(key) {\n",
              "      const quickchartButtonEl =\n",
              "        document.querySelector('#' + key + ' button');\n",
              "      quickchartButtonEl.disabled = true;  // To prevent multiple clicks.\n",
              "      quickchartButtonEl.classList.add('colab-df-spinner');\n",
              "      try {\n",
              "        const charts = await google.colab.kernel.invokeFunction(\n",
              "            'suggestCharts', [key], {});\n",
              "      } catch (error) {\n",
              "        console.error('Error during call to suggestCharts:', error);\n",
              "      }\n",
              "      quickchartButtonEl.classList.remove('colab-df-spinner');\n",
              "      quickchartButtonEl.classList.add('colab-df-quickchart-complete');\n",
              "    }\n",
              "    (() => {\n",
              "      let quickchartButtonEl =\n",
              "        document.querySelector('#df-a92262f2-29d0-4b46-9557-9561bb06807f button');\n",
              "      quickchartButtonEl.style.display =\n",
              "        google.colab.kernel.accessAllowed ? 'block' : 'none';\n",
              "    })();\n",
              "  </script>\n",
              "</div>\n",
              "\n",
              "    </div>\n",
              "  </div>\n"
            ],
            "application/vnd.google.colaboratory.intrinsic+json": {
              "type": "dataframe",
              "summary": "{\n  \"name\": \"data\",\n  \"rows\": 8,\n  \"fields\": [\n    {\n      \"column\": \"Open\",\n      \"properties\": {\n        \"dtype\": \"number\",\n        \"std\": 340.29778304149363,\n        \"min\": 12.614634787446647,\n        \"max\": 1013.0,\n        \"num_unique_values\": 8,\n        \"samples\": [\n          58.0352084254689,\n          59.702999,\n          1013.0\n        ],\n        \"semantic_type\": \"\",\n        \"description\": \"\"\n      }\n    },\n    {\n      \"column\": \"High\",\n      \"properties\": {\n        \"dtype\": \"number\",\n        \"std\": 340.16153041051206,\n        \"min\": 12.716632346269359,\n        \"max\": 1013.0,\n        \"num_unique_values\": 8,\n        \"samples\": [\n          58.5066811875617,\n          60.342999,\n          1013.0\n        ],\n        \"semantic_type\": \"\",\n        \"description\": \"\"\n      }\n    },\n    {\n      \"column\": \"Low\",\n      \"properties\": {\n        \"dtype\": \"number\",\n        \"std\": 340.3830506813026,\n        \"min\": 12.565278645627455,\n        \"max\": 1013.0,\n        \"num_unique_values\": 8,\n        \"samples\": [\n          57.65470550839092,\n          59.209999,\n          1013.0\n        ],\n        \"semantic_type\": \"\",\n        \"description\": \"\"\n      }\n    },\n    {\n      \"column\": \"Close\",\n      \"properties\": {\n        \"dtype\": \"number\",\n        \"std\": 340.2834027518728,\n        \"min\": 12.6574070301971,\n        \"max\": 1013.0,\n        \"num_unique_values\": 8,\n        \"samples\": [\n          58.056509475814416,\n          59.84,\n          1013.0\n        ],\n        \"semantic_type\": \"\",\n        \"description\": \"\"\n      }\n    },\n    {\n      \"column\": \"Adj Close\",\n      \"properties\": {\n        \"dtype\": \"number\",\n        \"std\": 340.2834027518728,\n        \"min\": 12.6574070301971,\n        \"max\": 1013.0,\n        \"num_unique_values\": 8,\n        \"samples\": [\n          58.056509475814416,\n          59.84,\n          1013.0\n        ],\n        \"semantic_type\": \"\",\n        \"description\": \"\"\n      }\n    },\n    {\n      \"column\": \"Volume\",\n      \"properties\": {\n        \"dtype\": \"number\",\n        \"std\": 358.1495846709863,\n        \"min\": 0.0,\n        \"max\": 1013.0,\n        \"num_unique_values\": 2,\n        \"samples\": [\n          0.0,\n          1013.0\n        ],\n        \"semantic_type\": \"\",\n        \"description\": \"\"\n      }\n    }\n  ]\n}"
            }
          },
          "metadata": {},
          "execution_count": 9
        }
      ]
    },
    {
      "cell_type": "markdown",
      "source": [
        "figuring out the trend in rate of exchange between INR and USD currency exchange."
      ],
      "metadata": {
        "id": "b5fUwVpK0Koe"
      }
    },
    {
      "cell_type": "code",
      "source": [
        "figure = px.line(data, x= 'Date', y = 'Close', title = \"USD - INR conversion rate over the years\")\n",
        "figure.show()"
      ],
      "metadata": {
        "colab": {
          "base_uri": "https://localhost:8080/",
          "height": 542
        },
        "id": "Napez0W90AJy",
        "outputId": "96883b88-5b2d-444b-8150-517bc3d859a5"
      },
      "execution_count": null,
      "outputs": [
        {
          "output_type": "display_data",
          "data": {
            "text/html": [
              "<html>\n",
              "<head><meta charset=\"utf-8\" /></head>\n",
              "<body>\n",
              "    <div>            <script src=\"https://cdnjs.cloudflare.com/ajax/libs/mathjax/2.7.5/MathJax.js?config=TeX-AMS-MML_SVG\"></script><script type=\"text/javascript\">if (window.MathJax && window.MathJax.Hub && window.MathJax.Hub.Config) {window.MathJax.Hub.Config({SVG: {font: \"STIX-Web\"}});}</script>                <script type=\"text/javascript\">window.PlotlyConfig = {MathJaxConfig: 'local'};</script>\n",
              "        <script charset=\"utf-8\" src=\"https://cdn.plot.ly/plotly-2.24.1.min.js\"></script>                <div id=\"53b9fbe8-8751-4778-8ef5-c0e8caefe2b4\" class=\"plotly-graph-div\" style=\"height:525px; width:100%;\"></div>            <script type=\"text/javascript\">                                    window.PLOTLYENV=window.PLOTLYENV || {};                                    if (document.getElementById(\"53b9fbe8-8751-4778-8ef5-c0e8caefe2b4\")) {                    Plotly.newPlot(                        \"53b9fbe8-8751-4778-8ef5-c0e8caefe2b4\",                        [{\"hovertemplate\":\"Date=%{x}\\u003cbr\\u003eClose=%{y}\\u003cextra\\u003e\\u003c\\u002fextra\\u003e\",\"legendgroup\":\"\",\"line\":{\"color\":\"#636efa\",\"dash\":\"solid\"},\"marker\":{\"symbol\":\"circle\"},\"mode\":\"lines\",\"name\":\"\",\"showlegend\":false,\"x\":[\"2003-12-01\",\"2003-12-08\",\"2003-12-15\",\"2003-12-22\",\"2003-12-29\",\"2004-01-05\",\"2004-01-12\",\"2004-01-19\",\"2004-01-26\",\"2004-02-02\",\"2004-02-09\",\"2004-02-16\",\"2004-02-23\",\"2004-03-01\",\"2004-03-08\",\"2004-03-15\",\"2004-03-22\",\"2004-03-29\",\"2004-04-05\",\"2004-04-12\",\"2004-04-19\",\"2004-04-26\",\"2004-05-03\",\"2004-05-10\",\"2004-05-17\",\"2004-05-24\",\"2004-05-31\",\"2004-06-07\",\"2004-06-14\",\"2004-06-21\",\"2004-06-28\",\"2004-07-05\",\"2004-07-12\",\"2004-07-19\",\"2004-07-26\",\"2004-08-02\",\"2004-08-09\",\"2004-08-16\",\"2004-08-23\",\"2004-08-30\",\"2004-09-06\",\"2004-09-13\",\"2004-09-20\",\"2004-09-27\",\"2004-10-04\",\"2004-10-11\",\"2004-10-18\",\"2004-10-25\",\"2004-11-01\",\"2004-11-08\",\"2004-11-15\",\"2004-11-22\",\"2004-11-29\",\"2004-12-06\",\"2004-12-13\",\"2004-12-20\",\"2004-12-27\",\"2005-01-03\",\"2005-01-10\",\"2005-01-17\",\"2005-01-24\",\"2005-01-31\",\"2005-02-07\",\"2005-02-14\",\"2005-02-21\",\"2005-02-28\",\"2005-03-07\",\"2005-03-14\",\"2005-03-21\",\"2005-03-28\",\"2005-04-04\",\"2005-04-11\",\"2005-04-18\",\"2005-04-25\",\"2005-05-02\",\"2005-05-09\",\"2005-05-16\",\"2005-05-23\",\"2005-05-30\",\"2005-06-06\",\"2005-06-13\",\"2005-06-20\",\"2005-06-27\",\"2005-07-04\",\"2005-07-11\",\"2005-07-18\",\"2005-07-25\",\"2005-08-01\",\"2005-08-08\",\"2005-08-15\",\"2005-08-22\",\"2005-08-29\",\"2005-09-05\",\"2005-09-12\",\"2005-09-19\",\"2005-09-26\",\"2005-10-03\",\"2005-10-10\",\"2005-10-17\",\"2005-10-24\",\"2005-10-31\",\"2005-11-07\",\"2005-11-14\",\"2005-11-21\",\"2005-11-28\",\"2005-12-05\",\"2005-12-12\",\"2005-12-19\",\"2005-12-26\",\"2006-01-02\",\"2006-01-09\",\"2006-01-16\",\"2006-01-23\",\"2006-01-30\",\"2006-02-06\",\"2006-02-13\",\"2006-02-20\",\"2006-02-27\",\"2006-03-06\",\"2006-03-13\",\"2006-03-20\",\"2006-03-27\",\"2006-04-03\",\"2006-04-10\",\"2006-04-17\",\"2006-04-24\",\"2006-05-01\",\"2006-05-08\",\"2006-05-15\",\"2006-05-22\",\"2006-05-29\",\"2006-06-05\",\"2006-06-12\",\"2006-06-19\",\"2006-06-26\",\"2006-07-03\",\"2006-07-10\",\"2006-07-17\",\"2006-07-24\",\"2006-07-31\",\"2006-08-07\",\"2006-08-14\",\"2006-08-21\",\"2006-08-28\",\"2006-09-04\",\"2006-09-11\",\"2006-09-18\",\"2006-09-25\",\"2006-10-02\",\"2006-10-09\",\"2006-10-16\",\"2006-10-23\",\"2006-10-30\",\"2006-11-06\",\"2006-11-13\",\"2006-11-20\",\"2006-11-27\",\"2006-12-04\",\"2006-12-11\",\"2006-12-18\",\"2006-12-25\",\"2007-01-01\",\"2007-01-08\",\"2007-01-15\",\"2007-01-22\",\"2007-01-29\",\"2007-02-05\",\"2007-02-12\",\"2007-02-19\",\"2007-02-26\",\"2007-03-05\",\"2007-03-12\",\"2007-03-19\",\"2007-03-26\",\"2007-04-02\",\"2007-04-09\",\"2007-04-16\",\"2007-04-23\",\"2007-04-30\",\"2007-05-07\",\"2007-05-14\",\"2007-05-21\",\"2007-05-28\",\"2007-06-04\",\"2007-06-11\",\"2007-06-18\",\"2007-06-25\",\"2007-07-02\",\"2007-07-09\",\"2007-07-16\",\"2007-07-23\",\"2007-07-30\",\"2007-08-06\",\"2007-08-13\",\"2007-08-20\",\"2007-08-27\",\"2007-09-03\",\"2007-09-10\",\"2007-09-17\",\"2007-09-24\",\"2007-10-01\",\"2007-10-08\",\"2007-10-15\",\"2007-10-22\",\"2007-10-29\",\"2007-11-05\",\"2007-11-12\",\"2007-11-19\",\"2007-11-26\",\"2007-12-03\",\"2007-12-10\",\"2007-12-17\",\"2007-12-24\",\"2007-12-31\",\"2008-01-07\",\"2008-01-14\",\"2008-01-21\",\"2008-01-28\",\"2008-02-04\",\"2008-02-11\",\"2008-02-18\",\"2008-02-25\",\"2008-03-03\",\"2008-03-10\",\"2008-03-17\",\"2008-03-24\",\"2008-03-31\",\"2008-04-07\",\"2008-04-14\",\"2008-04-21\",\"2008-04-28\",\"2008-05-05\",\"2008-05-12\",\"2008-05-19\",\"2008-05-26\",\"2008-06-02\",\"2008-06-09\",\"2008-06-16\",\"2008-06-23\",\"2008-06-30\",\"2008-07-07\",\"2008-07-14\",\"2008-07-21\",\"2008-07-28\",\"2008-08-25\",\"2008-09-01\",\"2008-09-08\",\"2008-09-15\",\"2008-09-22\",\"2008-09-29\",\"2008-10-06\",\"2008-10-13\",\"2008-10-20\",\"2008-10-27\",\"2008-11-03\",\"2008-11-10\",\"2008-11-17\",\"2008-11-24\",\"2008-12-01\",\"2008-12-08\",\"2008-12-15\",\"2008-12-22\",\"2008-12-29\",\"2009-01-05\",\"2009-01-12\",\"2009-01-19\",\"2009-01-26\",\"2009-02-02\",\"2009-02-09\",\"2009-02-16\",\"2009-02-23\",\"2009-03-02\",\"2009-03-09\",\"2009-03-16\",\"2009-03-23\",\"2009-03-30\",\"2009-04-06\",\"2009-04-13\",\"2009-04-20\",\"2009-04-27\",\"2009-05-04\",\"2009-05-11\",\"2009-05-18\",\"2009-05-25\",\"2009-06-01\",\"2009-06-08\",\"2009-06-15\",\"2009-06-22\",\"2009-06-29\",\"2009-07-06\",\"2009-07-13\",\"2009-07-20\",\"2009-07-27\",\"2009-08-03\",\"2009-08-10\",\"2009-08-17\",\"2009-08-24\",\"2009-08-31\",\"2009-09-07\",\"2009-09-14\",\"2009-09-21\",\"2009-09-28\",\"2009-10-05\",\"2009-10-12\",\"2009-10-19\",\"2009-10-26\",\"2009-11-02\",\"2009-11-09\",\"2009-11-16\",\"2009-11-23\",\"2009-11-30\",\"2009-12-07\",\"2009-12-14\",\"2009-12-21\",\"2009-12-28\",\"2010-01-04\",\"2010-01-11\",\"2010-01-18\",\"2010-01-25\",\"2010-02-01\",\"2010-02-08\",\"2010-02-15\",\"2010-02-22\",\"2010-03-01\",\"2010-03-08\",\"2010-03-15\",\"2010-03-22\",\"2010-03-29\",\"2010-04-05\",\"2010-04-12\",\"2010-04-19\",\"2010-04-26\",\"2010-05-03\",\"2010-05-10\",\"2010-05-17\",\"2010-05-24\",\"2010-05-31\",\"2010-06-07\",\"2010-06-14\",\"2010-06-21\",\"2010-06-28\",\"2010-07-05\",\"2010-07-12\",\"2010-07-19\",\"2010-07-26\",\"2010-08-02\",\"2010-08-09\",\"2010-08-16\",\"2010-08-23\",\"2010-08-30\",\"2010-09-06\",\"2010-09-13\",\"2010-09-20\",\"2010-09-27\",\"2010-10-04\",\"2010-10-11\",\"2010-10-18\",\"2010-10-25\",\"2010-11-01\",\"2010-11-08\",\"2010-11-15\",\"2010-11-22\",\"2010-11-29\",\"2010-12-06\",\"2010-12-13\",\"2010-12-20\",\"2010-12-27\",\"2011-01-03\",\"2011-01-10\",\"2011-01-17\",\"2011-01-24\",\"2011-01-31\",\"2011-02-07\",\"2011-02-14\",\"2011-02-21\",\"2011-02-28\",\"2011-03-07\",\"2011-03-14\",\"2011-03-21\",\"2011-03-28\",\"2011-04-04\",\"2011-04-11\",\"2011-04-18\",\"2011-04-25\",\"2011-05-02\",\"2011-05-09\",\"2011-05-16\",\"2011-05-23\",\"2011-05-30\",\"2011-06-06\",\"2011-06-13\",\"2011-06-20\",\"2011-06-27\",\"2011-07-04\",\"2011-07-11\",\"2011-07-18\",\"2011-07-25\",\"2011-08-01\",\"2011-08-08\",\"2011-08-15\",\"2011-08-22\",\"2011-08-29\",\"2011-09-05\",\"2011-09-12\",\"2011-09-19\",\"2011-09-26\",\"2011-10-03\",\"2011-10-10\",\"2011-10-17\",\"2011-10-24\",\"2011-10-31\",\"2011-11-07\",\"2011-11-14\",\"2011-11-21\",\"2011-11-28\",\"2011-12-05\",\"2011-12-12\",\"2011-12-19\",\"2011-12-26\",\"2012-01-02\",\"2012-01-09\",\"2012-01-16\",\"2012-01-23\",\"2012-01-30\",\"2012-02-06\",\"2012-02-13\",\"2012-02-20\",\"2012-02-27\",\"2012-03-05\",\"2012-03-12\",\"2012-03-19\",\"2012-03-26\",\"2012-04-02\",\"2012-04-09\",\"2012-04-16\",\"2012-04-23\",\"2012-04-30\",\"2012-05-07\",\"2012-05-14\",\"2012-05-21\",\"2012-05-28\",\"2012-06-04\",\"2012-06-11\",\"2012-06-18\",\"2012-06-25\",\"2012-07-02\",\"2012-07-09\",\"2012-07-16\",\"2012-07-23\",\"2012-07-30\",\"2012-08-06\",\"2012-08-13\",\"2012-08-20\",\"2012-08-27\",\"2012-09-03\",\"2012-09-10\",\"2012-09-17\",\"2012-09-24\",\"2012-10-01\",\"2012-10-08\",\"2012-10-15\",\"2012-10-22\",\"2012-10-29\",\"2012-11-05\",\"2012-11-12\",\"2012-11-19\",\"2012-11-26\",\"2012-12-03\",\"2012-12-10\",\"2012-12-17\",\"2012-12-24\",\"2012-12-31\",\"2013-01-07\",\"2013-01-14\",\"2013-01-21\",\"2013-01-28\",\"2013-02-04\",\"2013-02-11\",\"2013-02-18\",\"2013-02-25\",\"2013-03-04\",\"2013-03-11\",\"2013-03-18\",\"2013-03-25\",\"2013-04-01\",\"2013-04-08\",\"2013-04-15\",\"2013-04-22\",\"2013-04-29\",\"2013-05-06\",\"2013-05-13\",\"2013-05-20\",\"2013-05-27\",\"2013-06-03\",\"2013-06-10\",\"2013-06-17\",\"2013-06-24\",\"2013-07-01\",\"2013-07-08\",\"2013-07-15\",\"2013-07-22\",\"2013-07-29\",\"2013-08-05\",\"2013-08-12\",\"2013-08-19\",\"2013-08-26\",\"2013-09-02\",\"2013-09-09\",\"2013-09-16\",\"2013-09-23\",\"2013-09-30\",\"2013-10-07\",\"2013-10-14\",\"2013-10-21\",\"2013-10-28\",\"2013-11-04\",\"2013-11-11\",\"2013-11-18\",\"2013-11-25\",\"2013-12-02\",\"2013-12-09\",\"2013-12-16\",\"2013-12-23\",\"2013-12-30\",\"2014-01-06\",\"2014-01-13\",\"2014-01-20\",\"2014-01-27\",\"2014-02-03\",\"2014-02-10\",\"2014-02-17\",\"2014-02-24\",\"2014-03-03\",\"2014-03-10\",\"2014-03-17\",\"2014-03-24\",\"2014-03-31\",\"2014-04-07\",\"2014-04-14\",\"2014-04-21\",\"2014-04-28\",\"2014-05-05\",\"2014-05-12\",\"2014-05-19\",\"2014-05-26\",\"2014-06-02\",\"2014-06-09\",\"2014-06-16\",\"2014-06-23\",\"2014-06-30\",\"2014-07-07\",\"2014-07-14\",\"2014-07-21\",\"2014-07-28\",\"2014-08-04\",\"2014-08-11\",\"2014-08-18\",\"2014-08-25\",\"2014-09-01\",\"2014-09-08\",\"2014-09-15\",\"2014-09-22\",\"2014-09-29\",\"2014-10-06\",\"2014-10-13\",\"2014-10-20\",\"2014-10-27\",\"2014-11-03\",\"2014-11-10\",\"2014-11-17\",\"2014-11-24\",\"2014-12-01\",\"2014-12-08\",\"2014-12-15\",\"2014-12-22\",\"2014-12-29\",\"2015-01-05\",\"2015-01-12\",\"2015-01-19\",\"2015-01-26\",\"2015-02-02\",\"2015-02-09\",\"2015-02-16\",\"2015-02-23\",\"2015-03-02\",\"2015-03-09\",\"2015-03-16\",\"2015-03-23\",\"2015-03-30\",\"2015-04-06\",\"2015-04-13\",\"2015-04-20\",\"2015-04-27\",\"2015-05-04\",\"2015-05-11\",\"2015-05-18\",\"2015-05-25\",\"2015-06-01\",\"2015-06-08\",\"2015-06-15\",\"2015-06-22\",\"2015-06-29\",\"2015-07-06\",\"2015-07-13\",\"2015-07-20\",\"2015-07-27\",\"2015-08-03\",\"2015-08-10\",\"2015-08-17\",\"2015-08-24\",\"2015-08-31\",\"2015-09-07\",\"2015-09-14\",\"2015-09-21\",\"2015-09-28\",\"2015-10-05\",\"2015-10-12\",\"2015-10-19\",\"2015-10-26\",\"2015-11-02\",\"2015-11-09\",\"2015-11-16\",\"2015-11-23\",\"2015-11-30\",\"2015-12-07\",\"2015-12-14\",\"2015-12-21\",\"2015-12-28\",\"2016-01-04\",\"2016-01-11\",\"2016-01-18\",\"2016-01-25\",\"2016-02-01\",\"2016-02-08\",\"2016-02-15\",\"2016-02-22\",\"2016-02-29\",\"2016-03-07\",\"2016-03-14\",\"2016-03-21\",\"2016-03-28\",\"2016-04-04\",\"2016-04-11\",\"2016-04-18\",\"2016-04-25\",\"2016-05-02\",\"2016-05-09\",\"2016-05-16\",\"2016-05-23\",\"2016-05-30\",\"2016-06-06\",\"2016-06-13\",\"2016-06-20\",\"2016-06-27\",\"2016-07-04\",\"2016-07-11\",\"2016-07-18\",\"2016-07-25\",\"2016-08-01\",\"2016-08-08\",\"2016-08-15\",\"2016-08-22\",\"2016-08-29\",\"2016-09-05\",\"2016-09-12\",\"2016-09-19\",\"2016-09-26\",\"2016-10-03\",\"2016-10-10\",\"2016-10-17\",\"2016-10-24\",\"2016-10-31\",\"2016-11-07\",\"2016-11-14\",\"2016-11-21\",\"2016-11-28\",\"2016-12-05\",\"2016-12-12\",\"2016-12-19\",\"2016-12-26\",\"2017-01-02\",\"2017-01-09\",\"2017-01-16\",\"2017-01-23\",\"2017-01-30\",\"2017-02-06\",\"2017-02-13\",\"2017-02-20\",\"2017-02-27\",\"2017-03-06\",\"2017-03-13\",\"2017-03-20\",\"2017-03-27\",\"2017-04-03\",\"2017-04-10\",\"2017-04-17\",\"2017-04-24\",\"2017-05-01\",\"2017-05-08\",\"2017-05-15\",\"2017-05-22\",\"2017-05-29\",\"2017-06-05\",\"2017-06-12\",\"2017-06-19\",\"2017-06-26\",\"2017-07-03\",\"2017-07-10\",\"2017-07-17\",\"2017-07-24\",\"2017-07-31\",\"2017-08-07\",\"2017-08-14\",\"2017-08-21\",\"2017-08-28\",\"2017-09-04\",\"2017-09-11\",\"2017-09-18\",\"2017-09-25\",\"2017-10-02\",\"2017-10-09\",\"2017-10-16\",\"2017-10-23\",\"2017-10-30\",\"2017-11-06\",\"2017-11-13\",\"2017-11-20\",\"2017-11-27\",\"2017-12-04\",\"2017-12-11\",\"2017-12-18\",\"2017-12-25\",\"2018-01-01\",\"2018-01-08\",\"2018-01-15\",\"2018-01-22\",\"2018-01-29\",\"2018-02-05\",\"2018-02-12\",\"2018-02-19\",\"2018-02-26\",\"2018-03-05\",\"2018-03-12\",\"2018-03-19\",\"2018-03-26\",\"2018-04-02\",\"2018-04-09\",\"2018-04-16\",\"2018-04-23\",\"2018-04-30\",\"2018-05-07\",\"2018-05-14\",\"2018-05-21\",\"2018-05-28\",\"2018-06-04\",\"2018-06-11\",\"2018-06-18\",\"2018-06-25\",\"2018-07-02\",\"2018-07-09\",\"2018-07-16\",\"2018-07-23\",\"2018-07-30\",\"2018-08-06\",\"2018-08-13\",\"2018-08-20\",\"2018-08-27\",\"2018-09-03\",\"2018-09-10\",\"2018-09-17\",\"2018-09-24\",\"2018-10-01\",\"2018-10-08\",\"2018-10-15\",\"2018-10-22\",\"2018-10-29\",\"2018-11-05\",\"2018-11-12\",\"2018-11-19\",\"2018-11-26\",\"2018-12-03\",\"2018-12-10\",\"2018-12-17\",\"2018-12-24\",\"2018-12-31\",\"2019-01-07\",\"2019-01-14\",\"2019-01-21\",\"2019-01-28\",\"2019-02-04\",\"2019-02-11\",\"2019-02-18\",\"2019-02-25\",\"2019-03-04\",\"2019-03-11\",\"2019-03-18\",\"2019-03-25\",\"2019-04-01\",\"2019-04-08\",\"2019-04-15\",\"2019-04-22\",\"2019-04-29\",\"2019-05-06\",\"2019-05-13\",\"2019-05-20\",\"2019-05-27\",\"2019-06-03\",\"2019-06-10\",\"2019-06-17\",\"2019-06-24\",\"2019-07-01\",\"2019-07-08\",\"2019-07-15\",\"2019-07-22\",\"2019-07-29\",\"2019-08-05\",\"2019-08-12\",\"2019-08-19\",\"2019-08-26\",\"2019-09-02\",\"2019-09-09\",\"2019-09-16\",\"2019-09-23\",\"2019-09-30\",\"2019-10-07\",\"2019-10-14\",\"2019-10-21\",\"2019-10-28\",\"2019-11-04\",\"2019-11-11\",\"2019-11-18\",\"2019-11-25\",\"2019-12-02\",\"2019-12-09\",\"2019-12-16\",\"2019-12-23\",\"2019-12-30\",\"2020-01-06\",\"2020-01-13\",\"2020-01-20\",\"2020-01-27\",\"2020-02-03\",\"2020-02-10\",\"2020-02-17\",\"2020-02-24\",\"2020-03-02\",\"2020-03-09\",\"2020-03-16\",\"2020-03-23\",\"2020-03-30\",\"2020-04-06\",\"2020-04-13\",\"2020-04-20\",\"2020-04-27\",\"2020-05-04\",\"2020-05-11\",\"2020-05-18\",\"2020-05-25\",\"2020-06-01\",\"2020-06-08\",\"2020-06-15\",\"2020-06-22\",\"2020-06-29\",\"2020-07-06\",\"2020-07-13\",\"2020-07-20\",\"2020-07-27\",\"2020-08-03\",\"2020-08-10\",\"2020-08-17\",\"2020-08-24\",\"2020-08-31\",\"2020-09-07\",\"2020-09-14\",\"2020-09-21\",\"2020-09-28\",\"2020-10-05\",\"2020-10-12\",\"2020-10-19\",\"2020-10-26\",\"2020-11-02\",\"2020-11-09\",\"2020-11-16\",\"2020-11-23\",\"2020-11-30\",\"2020-12-07\",\"2020-12-14\",\"2020-12-21\",\"2020-12-28\",\"2021-01-04\",\"2021-01-11\",\"2021-01-18\",\"2021-01-25\",\"2021-02-01\",\"2021-02-08\",\"2021-02-15\",\"2021-02-22\",\"2021-03-01\",\"2021-03-08\",\"2021-03-15\",\"2021-03-22\",\"2021-03-29\",\"2021-04-05\",\"2021-04-12\",\"2021-04-19\",\"2021-04-26\",\"2021-05-03\",\"2021-05-10\",\"2021-05-17\",\"2021-05-24\",\"2021-05-31\",\"2021-06-07\",\"2021-06-14\",\"2021-06-21\",\"2021-06-28\",\"2021-07-05\",\"2021-07-12\",\"2021-07-19\",\"2021-07-26\",\"2021-08-02\",\"2021-08-09\",\"2021-08-16\",\"2021-08-23\",\"2021-08-30\",\"2021-09-06\",\"2021-09-13\",\"2021-09-20\",\"2021-09-27\",\"2021-10-04\",\"2021-10-11\",\"2021-10-18\",\"2021-10-25\",\"2021-11-01\",\"2021-11-08\",\"2021-11-15\",\"2021-11-22\",\"2021-11-29\",\"2021-12-06\",\"2021-12-13\",\"2021-12-20\",\"2021-12-27\",\"2022-01-03\",\"2022-01-10\",\"2022-01-17\",\"2022-01-24\",\"2022-01-31\",\"2022-02-07\",\"2022-02-14\",\"2022-02-21\",\"2022-02-28\",\"2022-03-07\",\"2022-03-14\",\"2022-03-21\",\"2022-03-28\",\"2022-04-04\",\"2022-04-11\",\"2022-04-18\",\"2022-04-25\",\"2022-05-02\",\"2022-05-09\",\"2022-05-16\",\"2022-05-23\",\"2022-05-30\",\"2022-06-06\",\"2022-06-13\",\"2022-06-20\",\"2022-06-27\",\"2022-07-04\",\"2022-07-11\",\"2022-07-18\",\"2022-07-25\",\"2022-08-01\",\"2022-08-08\",\"2022-08-15\",\"2022-08-22\",\"2022-08-29\",\"2022-09-05\",\"2022-09-12\",\"2022-09-19\",\"2022-09-26\",\"2022-10-03\",\"2022-10-10\",\"2022-10-17\",\"2022-10-24\",\"2022-10-31\",\"2022-11-07\",\"2022-11-14\",\"2022-11-21\",\"2022-11-28\",\"2022-12-05\",\"2022-12-12\",\"2022-12-19\",\"2022-12-26\",\"2023-01-02\",\"2023-01-09\",\"2023-01-16\",\"2023-01-23\",\"2023-01-30\",\"2023-02-06\",\"2023-02-13\",\"2023-02-20\",\"2023-02-27\",\"2023-03-06\",\"2023-03-13\",\"2023-03-20\",\"2023-03-27\",\"2023-04-03\",\"2023-04-10\",\"2023-04-17\",\"2023-04-24\",\"2023-05-01\",\"2023-05-08\",\"2023-05-10\"],\"xaxis\":\"x\",\"y\":[45.48,45.451,45.455002,45.507999,45.560001,45.351002,45.352001,45.243999,45.0,45.290001,45.373001,45.238998,45.195999,45.200001,45.278999,45.104,44.52,43.691002,43.522999,43.740002,44.109001,44.259998,44.529999,45.380001,45.182999,45.219002,44.972,45.066002,45.507999,45.648998,45.501999,45.645,46.088001,46.129002,46.237999,46.111,46.229,46.220001,46.209999,46.257,46.172001,45.771,45.799999,45.993,45.674999,45.743999,45.610001,45.243999,44.959999,45.029999,44.93,44.928001,43.991001,44.569,43.875999,43.612999,43.307999,43.832001,43.52,43.599998,43.580002,43.275002,43.700001,43.66,43.599998,43.567001,43.419998,43.549999,43.619999,43.619999,43.599998,43.700001,43.66,43.431999,43.43,43.360001,43.450001,43.5,43.560001,43.470001,43.459999,43.404999,43.459999,43.540001,43.470001,43.369999,43.360001,43.419998,43.52,43.5,43.599998,43.880001,43.740002,43.799999,43.849998,43.880001,44.259998,44.77,45.009998,44.970001,45.419998,45.48,45.66,45.740002,46.060001,46.139999,45.279999,45.060001,44.970001,44.5,44.07,44.150002,43.939999,44.16,44.040001,44.32,44.290001,44.18,44.459999,44.25,44.424999,44.540001,44.404999,45.0,44.994999,44.805,44.779999,44.825001,45.360001,45.755001,45.605,45.744999,45.625,45.939999,45.880001,45.860001,46.125,46.580002,46.465,46.459999,46.424999,46.400002,46.345001,46.507999,45.994999,45.884998,45.709999,45.715,45.355,45.299999,45.125,45.005001,44.695,44.485001,44.685001,44.529999,44.435001,44.465,44.5,44.305,44.040001,44.220001,44.255001,44.084999,44.040001,43.919998,43.98,44.0,44.200001,44.035,44.009998,43.889999,43.305,43.044998,42.695,42.365002,41.52,40.724998,40.68,40.674999,40.299999,40.52,40.215,40.759998,40.459999,40.494999,40.529999,40.310001,40.200001,40.125,40.32,40.195,40.400002,41.0,40.84,40.575001,40.599998,40.285,39.77,39.575001,39.404999,39.095001,39.450001,39.235001,39.265999,39.044998,39.174999,39.599998,39.362999,39.360001,39.240002,39.235001,39.244999,39.095001,39.095001,39.134998,39.245998,39.055,39.535,39.584999,39.974998,39.91,40.355,40.075001,40.185001,39.615002,39.805,39.775002,39.665001,39.990002,40.485001,41.5,42.435001,42.610001,42.084999,42.564999,42.805,42.799999,42.715,43.084999,42.728001,42.595001,42.084999,42.433998,43.625,44.573002,45.560001,45.705002,46.498001,46.973,48.423,48.823002,49.755001,49.403,47.555,48.783001,49.548,49.568001,49.563,48.233002,47.037998,48.682999,48.244999,48.292999,48.643002,49.018002,48.733002,48.623001,48.598,49.733002,50.893002,51.682999,51.452999,50.563,50.493,49.928001,49.627998,49.803001,49.693001,49.192001,49.147999,49.382999,47.145,47.112999,47.068001,47.308998,48.018002,48.018002,47.807999,48.763,48.563,48.162998,47.625999,47.737999,48.193001,48.432999,48.528,48.868,48.394001,48.037998,47.938,47.627998,46.458,46.217999,46.428001,46.917999,46.740002,46.257999,46.643002,46.553001,46.150002,46.473,46.702999,46.650002,46.610001,45.518002,45.803001,46.223,46.098,46.737999,46.400002,46.252998,46.068001,45.507999,45.498001,45.268002,45.138,44.807999,44.119999,44.318001,44.290001,44.217999,45.417999,45.217999,46.917999,46.327999,46.868,46.778,45.978001,46.358002,46.568001,46.658001,46.702999,46.917999,46.368,46.056,46.709999,46.358002,46.787998,46.599998,46.303001,46.099998,45.450001,44.563,44.200001,44.068001,44.200001,44.419998,44.013,44.240002,45.150002,45.557999,45.130001,45.049999,45.25,45.060001,44.810001,45.18,44.959999,45.778,45.688,45.560001,45.630001,45.209999,45.400002,44.849998,45.110001,45.049999,44.599998,44.450001,44.099998,44.419998,44.259998,44.299999,44.700001,44.709999,44.849998,45.189999,44.759998,44.599998,44.799999,44.849998,44.592999,44.330002,44.400002,44.299999,44.009998,44.563,45.292999,45.709999,46.009998,45.700001,46.130001,47.5,49.473,48.860001,49.040001,49.200001,49.860001,49.790001,49.048,49.959999,50.948002,52.063,51.299999,51.700001,53.209999,52.509998,53.0,52.673,51.432999,50.223,49.388,48.653,49.353001,49.318001,49.007999,49.518002,50.073002,50.132999,51.167999,50.868,51.033001,51.542999,52.068001,52.537998,53.467999,53.627998,54.417999,55.368,55.537998,55.417999,55.388,57.118,55.502998,55.403,55.138,55.318001,55.248001,55.748001,55.278,55.728001,55.498001,55.518002,55.358002,54.298,53.358002,52.848,51.908001,52.803001,53.838001,53.548,53.807999,54.588001,55.158001,55.443001,54.257999,54.338001,54.438,54.848,54.752998,54.880001,54.868,53.737999,53.792999,53.162998,53.588001,54.318001,54.272999,54.897999,54.342999,54.022999,54.342999,54.278,54.803001,54.513,53.932999,54.373001,53.779999,54.803001,54.888,55.813,56.573002,57.057999,57.498001,59.268002,59.526001,60.223,59.883999,59.333,59.060001,61.098,60.723999,62.490002,64.07,66.589996,65.237999,63.290001,62.720001,62.91,61.380001,60.990002,61.240002,61.439999,62.200001,63.34,62.709999,62.240002,62.459999,61.150002,62.188,62.02,61.669998,62.23,61.439999,61.549999,62.73,62.5,62.09,61.830002,62.009998,61.82,61.23,60.98,61.02,59.84,59.669998,60.34,60.150002,60.630001,60.02,59.849998,58.560001,58.419998,58.900002,59.167999,59.702999,60.167999,60.080002,59.717999,60.088001,60.278,60.053001,61.208,61.138,60.772999,60.463001,60.513,60.369999,60.647999,60.853001,61.138,61.537998,61.278,61.358002,61.162998,61.432999,61.493,61.708,61.759998,61.853001,61.910999,62.518002,62.983002,63.59,63.028,62.667999,62.057999,61.598,62.013,61.733002,62.069,62.165001,61.754002,62.443001,63.076,62.483002,62.828999,62.060001,62.313999,62.542999,63.654999,63.522999,64.082001,63.408001,63.625999,63.825001,64.000999,63.999001,63.645,63.511002,63.369999,63.363998,63.484001,63.848,64.117996,63.733002,65.268997,65.460999,66.055,66.160004,66.319,66.122002,66.221001,65.617996,64.772003,64.783997,65.050003,65.444,65.860001,66.047997,66.084999,66.557999,66.803001,66.786003,66.459,65.940002,66.193001,66.920998,67.304001,67.541,68.093002,67.802002,68.473999,68.538002,68.796997,67.142998,67.308998,66.375999,66.906998,66.358002,66.543999,66.637001,66.512001,66.417999,66.601997,66.750999,67.422997,67.024002,67.292,66.740997,67.066002,67.241997,67.181999,67.132004,67.133003,67.153999,66.648003,66.841003,66.899597,67.127502,67.128998,66.5728,66.778,67.0653,66.696503,66.546501,66.591202,66.705299,66.911201,66.781403,66.785301,67.546799,68.169998,68.508499,68.011497,67.460503,67.834999,67.830803,67.944801,68.142601,68.157799,68.077202,68.110001,67.157303,66.843697,67.065201,66.635002,66.773003,66.485001,65.468102,65.393097,64.7967,64.260002,64.453697,64.639999,64.258301,64.169998,64.165497,64.448502,64.513199,64.404999,64.376999,64.394997,64.498001,64.606796,64.611702,64.267303,64.461098,64.123497,63.6651,64.081001,64.075897,63.995499,64.015503,63.931,64.120201,64.890999,65.293297,65.4142,64.672997,65.104103,65.032997,64.693398,65.182999,65.008003,64.544998,64.513,64.473,64.072998,64.007797,63.840801,63.333,63.588501,63.823002,63.573101,64.1325,64.211304,64.379997,64.703003,65.186699,65.090401,65.014397,65.014999,65.069801,64.904503,65.195602,66.203003,66.610001,66.809998,67.382202,67.974998,67.721703,66.987999,67.523003,68.449997,67.830002,68.434998,68.754997,68.486702,68.733002,68.610001,68.510002,69.080002,69.779999,70.275002,70.995003,72.095001,72.027496,72.230003,72.510002,73.763,74.160004,74.160004,73.125,72.904999,72.470001,71.973,70.648003,69.642998,70.75,71.546997,70.129997,69.849998,69.525002,70.370003,71.030197,70.970001,71.449997,71.099998,71.32,71.028,70.989998,69.9869,69.337303,69.160004,69.43,68.970398,69.182999,69.380997,69.844299,69.4244,70.410004,70.235001,69.373001,69.980003,69.360001,69.859001,69.779999,69.324997,68.440002,68.550301,68.913597,69.150497,69.297203,70.470901,71.720001,71.727097,71.680199,71.669998,71.020699,71.717499,70.639999,70.822502,71.029999,71.422501,70.830002,70.5121,71.361267,71.705803,71.7826,71.723,71.286797,70.689003,71.024002,71.313004,71.731003,70.953003,71.034698,71.324997,71.496498,71.515503,71.514801,71.886803,72.150002,73.9953,73.903999,75.159698,74.875504,77.139999,76.166496,76.490997,76.301498,75.830498,75.503502,75.822998,75.977501,75.513199,75.564003,75.956497,76.239799,75.627502,74.6782,75.188004,74.927002,74.669701,74.8769,75.017998,74.849701,74.875298,73.125,73.172699,73.425499,73.602898,73.695999,73.260902,72.959702,73.443001,73.822899,74.264,73.979797,74.487701,74.162399,73.940903,73.790298,73.737999,73.6036,73.689003,73.092003,73.373398,73.158997,72.954903,72.906601,72.784798,72.590797,72.563004,73.595901,73.1334,72.689003,72.441803,72.612801,73.2873,74.729202,74.532997,75.211502,74.087997,73.253998,73.444901,73.021896,72.682999,73.044197,73.012299,74.253899,74.220001,74.743797,74.487,74.901299,74.427002,74.251999,74.203003,74.260101,74.345001,74.155998,73.054298,73.538002,73.564903,73.839996,74.254402,75.2985,74.995003,74.999001,74.797203,74.478104,74.347,74.1744,74.505798,75.464996,75.792297,76.305,75.067398,74.431198,74.4673,73.972298,74.452202,74.994301,74.643898,75.579597,75.063004,75.068001,76.417999,76.310303,75.981598,76.276001,75.919098,75.9132,76.3088,76.441704,76.588997,76.541801,77.443802,77.421097,77.630203,77.643898,78.148804,77.961403,78.142403,78.962997,79.332397,79.685204,79.876503,79.571503,79.591003,79.613998,79.886597,79.956299,79.716797,79.648003,79.653198,81.219498,81.480598,82.7836,82.192101,82.513496,82.442497,81.974998,80.547897,81.500198,81.5979,81.43,82.434601,82.681801,82.604103,82.739502,82.270599,81.284798,80.975998,81.514297,82.491096,82.494698,82.814903,82.932999,81.712502,82.018303,82.532402,82.347198,82.100502,81.875,81.846001,82.1409,81.745399,81.716103,81.787102,81.93],\"yaxis\":\"y\",\"type\":\"scattergl\"}],                        {\"template\":{\"data\":{\"histogram2dcontour\":[{\"type\":\"histogram2dcontour\",\"colorbar\":{\"outlinewidth\":0,\"ticks\":\"\"},\"colorscale\":[[0.0,\"#0d0887\"],[0.1111111111111111,\"#46039f\"],[0.2222222222222222,\"#7201a8\"],[0.3333333333333333,\"#9c179e\"],[0.4444444444444444,\"#bd3786\"],[0.5555555555555556,\"#d8576b\"],[0.6666666666666666,\"#ed7953\"],[0.7777777777777778,\"#fb9f3a\"],[0.8888888888888888,\"#fdca26\"],[1.0,\"#f0f921\"]]}],\"choropleth\":[{\"type\":\"choropleth\",\"colorbar\":{\"outlinewidth\":0,\"ticks\":\"\"}}],\"histogram2d\":[{\"type\":\"histogram2d\",\"colorbar\":{\"outlinewidth\":0,\"ticks\":\"\"},\"colorscale\":[[0.0,\"#0d0887\"],[0.1111111111111111,\"#46039f\"],[0.2222222222222222,\"#7201a8\"],[0.3333333333333333,\"#9c179e\"],[0.4444444444444444,\"#bd3786\"],[0.5555555555555556,\"#d8576b\"],[0.6666666666666666,\"#ed7953\"],[0.7777777777777778,\"#fb9f3a\"],[0.8888888888888888,\"#fdca26\"],[1.0,\"#f0f921\"]]}],\"heatmap\":[{\"type\":\"heatmap\",\"colorbar\":{\"outlinewidth\":0,\"ticks\":\"\"},\"colorscale\":[[0.0,\"#0d0887\"],[0.1111111111111111,\"#46039f\"],[0.2222222222222222,\"#7201a8\"],[0.3333333333333333,\"#9c179e\"],[0.4444444444444444,\"#bd3786\"],[0.5555555555555556,\"#d8576b\"],[0.6666666666666666,\"#ed7953\"],[0.7777777777777778,\"#fb9f3a\"],[0.8888888888888888,\"#fdca26\"],[1.0,\"#f0f921\"]]}],\"heatmapgl\":[{\"type\":\"heatmapgl\",\"colorbar\":{\"outlinewidth\":0,\"ticks\":\"\"},\"colorscale\":[[0.0,\"#0d0887\"],[0.1111111111111111,\"#46039f\"],[0.2222222222222222,\"#7201a8\"],[0.3333333333333333,\"#9c179e\"],[0.4444444444444444,\"#bd3786\"],[0.5555555555555556,\"#d8576b\"],[0.6666666666666666,\"#ed7953\"],[0.7777777777777778,\"#fb9f3a\"],[0.8888888888888888,\"#fdca26\"],[1.0,\"#f0f921\"]]}],\"contourcarpet\":[{\"type\":\"contourcarpet\",\"colorbar\":{\"outlinewidth\":0,\"ticks\":\"\"}}],\"contour\":[{\"type\":\"contour\",\"colorbar\":{\"outlinewidth\":0,\"ticks\":\"\"},\"colorscale\":[[0.0,\"#0d0887\"],[0.1111111111111111,\"#46039f\"],[0.2222222222222222,\"#7201a8\"],[0.3333333333333333,\"#9c179e\"],[0.4444444444444444,\"#bd3786\"],[0.5555555555555556,\"#d8576b\"],[0.6666666666666666,\"#ed7953\"],[0.7777777777777778,\"#fb9f3a\"],[0.8888888888888888,\"#fdca26\"],[1.0,\"#f0f921\"]]}],\"surface\":[{\"type\":\"surface\",\"colorbar\":{\"outlinewidth\":0,\"ticks\":\"\"},\"colorscale\":[[0.0,\"#0d0887\"],[0.1111111111111111,\"#46039f\"],[0.2222222222222222,\"#7201a8\"],[0.3333333333333333,\"#9c179e\"],[0.4444444444444444,\"#bd3786\"],[0.5555555555555556,\"#d8576b\"],[0.6666666666666666,\"#ed7953\"],[0.7777777777777778,\"#fb9f3a\"],[0.8888888888888888,\"#fdca26\"],[1.0,\"#f0f921\"]]}],\"mesh3d\":[{\"type\":\"mesh3d\",\"colorbar\":{\"outlinewidth\":0,\"ticks\":\"\"}}],\"scatter\":[{\"fillpattern\":{\"fillmode\":\"overlay\",\"size\":10,\"solidity\":0.2},\"type\":\"scatter\"}],\"parcoords\":[{\"type\":\"parcoords\",\"line\":{\"colorbar\":{\"outlinewidth\":0,\"ticks\":\"\"}}}],\"scatterpolargl\":[{\"type\":\"scatterpolargl\",\"marker\":{\"colorbar\":{\"outlinewidth\":0,\"ticks\":\"\"}}}],\"bar\":[{\"error_x\":{\"color\":\"#2a3f5f\"},\"error_y\":{\"color\":\"#2a3f5f\"},\"marker\":{\"line\":{\"color\":\"#E5ECF6\",\"width\":0.5},\"pattern\":{\"fillmode\":\"overlay\",\"size\":10,\"solidity\":0.2}},\"type\":\"bar\"}],\"scattergeo\":[{\"type\":\"scattergeo\",\"marker\":{\"colorbar\":{\"outlinewidth\":0,\"ticks\":\"\"}}}],\"scatterpolar\":[{\"type\":\"scatterpolar\",\"marker\":{\"colorbar\":{\"outlinewidth\":0,\"ticks\":\"\"}}}],\"histogram\":[{\"marker\":{\"pattern\":{\"fillmode\":\"overlay\",\"size\":10,\"solidity\":0.2}},\"type\":\"histogram\"}],\"scattergl\":[{\"type\":\"scattergl\",\"marker\":{\"colorbar\":{\"outlinewidth\":0,\"ticks\":\"\"}}}],\"scatter3d\":[{\"type\":\"scatter3d\",\"line\":{\"colorbar\":{\"outlinewidth\":0,\"ticks\":\"\"}},\"marker\":{\"colorbar\":{\"outlinewidth\":0,\"ticks\":\"\"}}}],\"scattermapbox\":[{\"type\":\"scattermapbox\",\"marker\":{\"colorbar\":{\"outlinewidth\":0,\"ticks\":\"\"}}}],\"scatterternary\":[{\"type\":\"scatterternary\",\"marker\":{\"colorbar\":{\"outlinewidth\":0,\"ticks\":\"\"}}}],\"scattercarpet\":[{\"type\":\"scattercarpet\",\"marker\":{\"colorbar\":{\"outlinewidth\":0,\"ticks\":\"\"}}}],\"carpet\":[{\"aaxis\":{\"endlinecolor\":\"#2a3f5f\",\"gridcolor\":\"white\",\"linecolor\":\"white\",\"minorgridcolor\":\"white\",\"startlinecolor\":\"#2a3f5f\"},\"baxis\":{\"endlinecolor\":\"#2a3f5f\",\"gridcolor\":\"white\",\"linecolor\":\"white\",\"minorgridcolor\":\"white\",\"startlinecolor\":\"#2a3f5f\"},\"type\":\"carpet\"}],\"table\":[{\"cells\":{\"fill\":{\"color\":\"#EBF0F8\"},\"line\":{\"color\":\"white\"}},\"header\":{\"fill\":{\"color\":\"#C8D4E3\"},\"line\":{\"color\":\"white\"}},\"type\":\"table\"}],\"barpolar\":[{\"marker\":{\"line\":{\"color\":\"#E5ECF6\",\"width\":0.5},\"pattern\":{\"fillmode\":\"overlay\",\"size\":10,\"solidity\":0.2}},\"type\":\"barpolar\"}],\"pie\":[{\"automargin\":true,\"type\":\"pie\"}]},\"layout\":{\"autotypenumbers\":\"strict\",\"colorway\":[\"#636efa\",\"#EF553B\",\"#00cc96\",\"#ab63fa\",\"#FFA15A\",\"#19d3f3\",\"#FF6692\",\"#B6E880\",\"#FF97FF\",\"#FECB52\"],\"font\":{\"color\":\"#2a3f5f\"},\"hovermode\":\"closest\",\"hoverlabel\":{\"align\":\"left\"},\"paper_bgcolor\":\"white\",\"plot_bgcolor\":\"#E5ECF6\",\"polar\":{\"bgcolor\":\"#E5ECF6\",\"angularaxis\":{\"gridcolor\":\"white\",\"linecolor\":\"white\",\"ticks\":\"\"},\"radialaxis\":{\"gridcolor\":\"white\",\"linecolor\":\"white\",\"ticks\":\"\"}},\"ternary\":{\"bgcolor\":\"#E5ECF6\",\"aaxis\":{\"gridcolor\":\"white\",\"linecolor\":\"white\",\"ticks\":\"\"},\"baxis\":{\"gridcolor\":\"white\",\"linecolor\":\"white\",\"ticks\":\"\"},\"caxis\":{\"gridcolor\":\"white\",\"linecolor\":\"white\",\"ticks\":\"\"}},\"coloraxis\":{\"colorbar\":{\"outlinewidth\":0,\"ticks\":\"\"}},\"colorscale\":{\"sequential\":[[0.0,\"#0d0887\"],[0.1111111111111111,\"#46039f\"],[0.2222222222222222,\"#7201a8\"],[0.3333333333333333,\"#9c179e\"],[0.4444444444444444,\"#bd3786\"],[0.5555555555555556,\"#d8576b\"],[0.6666666666666666,\"#ed7953\"],[0.7777777777777778,\"#fb9f3a\"],[0.8888888888888888,\"#fdca26\"],[1.0,\"#f0f921\"]],\"sequentialminus\":[[0.0,\"#0d0887\"],[0.1111111111111111,\"#46039f\"],[0.2222222222222222,\"#7201a8\"],[0.3333333333333333,\"#9c179e\"],[0.4444444444444444,\"#bd3786\"],[0.5555555555555556,\"#d8576b\"],[0.6666666666666666,\"#ed7953\"],[0.7777777777777778,\"#fb9f3a\"],[0.8888888888888888,\"#fdca26\"],[1.0,\"#f0f921\"]],\"diverging\":[[0,\"#8e0152\"],[0.1,\"#c51b7d\"],[0.2,\"#de77ae\"],[0.3,\"#f1b6da\"],[0.4,\"#fde0ef\"],[0.5,\"#f7f7f7\"],[0.6,\"#e6f5d0\"],[0.7,\"#b8e186\"],[0.8,\"#7fbc41\"],[0.9,\"#4d9221\"],[1,\"#276419\"]]},\"xaxis\":{\"gridcolor\":\"white\",\"linecolor\":\"white\",\"ticks\":\"\",\"title\":{\"standoff\":15},\"zerolinecolor\":\"white\",\"automargin\":true,\"zerolinewidth\":2},\"yaxis\":{\"gridcolor\":\"white\",\"linecolor\":\"white\",\"ticks\":\"\",\"title\":{\"standoff\":15},\"zerolinecolor\":\"white\",\"automargin\":true,\"zerolinewidth\":2},\"scene\":{\"xaxis\":{\"backgroundcolor\":\"#E5ECF6\",\"gridcolor\":\"white\",\"linecolor\":\"white\",\"showbackground\":true,\"ticks\":\"\",\"zerolinecolor\":\"white\",\"gridwidth\":2},\"yaxis\":{\"backgroundcolor\":\"#E5ECF6\",\"gridcolor\":\"white\",\"linecolor\":\"white\",\"showbackground\":true,\"ticks\":\"\",\"zerolinecolor\":\"white\",\"gridwidth\":2},\"zaxis\":{\"backgroundcolor\":\"#E5ECF6\",\"gridcolor\":\"white\",\"linecolor\":\"white\",\"showbackground\":true,\"ticks\":\"\",\"zerolinecolor\":\"white\",\"gridwidth\":2}},\"shapedefaults\":{\"line\":{\"color\":\"#2a3f5f\"}},\"annotationdefaults\":{\"arrowcolor\":\"#2a3f5f\",\"arrowhead\":0,\"arrowwidth\":1},\"geo\":{\"bgcolor\":\"white\",\"landcolor\":\"#E5ECF6\",\"subunitcolor\":\"white\",\"showland\":true,\"showlakes\":true,\"lakecolor\":\"white\"},\"title\":{\"x\":0.05},\"mapbox\":{\"style\":\"light\"}}},\"xaxis\":{\"anchor\":\"y\",\"domain\":[0.0,1.0],\"title\":{\"text\":\"Date\"}},\"yaxis\":{\"anchor\":\"x\",\"domain\":[0.0,1.0],\"title\":{\"text\":\"Close\"}},\"legend\":{\"tracegroupgap\":0},\"title\":{\"text\":\"USD - INR conversion rate over the years\"}},                        {\"responsive\": true}                    ).then(function(){\n",
              "                            \n",
              "var gd = document.getElementById('53b9fbe8-8751-4778-8ef5-c0e8caefe2b4');\n",
              "var x = new MutationObserver(function (mutations, observer) {{\n",
              "        var display = window.getComputedStyle(gd).display;\n",
              "        if (!display || display === 'none') {{\n",
              "            console.log([gd, 'removed!']);\n",
              "            Plotly.purge(gd);\n",
              "            observer.disconnect();\n",
              "        }}\n",
              "}});\n",
              "\n",
              "// Listen for the removal of the full notebook cells\n",
              "var notebookContainer = gd.closest('#notebook-container');\n",
              "if (notebookContainer) {{\n",
              "    x.observe(notebookContainer, {childList: true});\n",
              "}}\n",
              "\n",
              "// Listen for the clearing of the current output cell\n",
              "var outputEl = gd.closest('.output');\n",
              "if (outputEl) {{\n",
              "    x.observe(outputEl, {childList: true});\n",
              "}}\n",
              "\n",
              "                        })                };                            </script>        </div>\n",
              "</body>\n",
              "</html>"
            ]
          },
          "metadata": {}
        }
      ]
    },
    {
      "cell_type": "code",
      "source": [
        "# adding the year and month column in the data moving forward\n",
        "data['Date'] = pd.to_datetime(data['Date'], format = '%Y-%m-%d')\n",
        "data['Year']  = data[\"Date\"].dt.year\n",
        "data['Month'] = data[\"Date\"].dt.month\n"
      ],
      "metadata": {
        "id": "YCefij3U8NC9"
      },
      "execution_count": null,
      "outputs": []
    },
    {
      "cell_type": "code",
      "source": [
        "print(data.head())"
      ],
      "metadata": {
        "colab": {
          "base_uri": "https://localhost:8080/"
        },
        "id": "n8PWE4s09fBV",
        "outputId": "362ddaaf-3cc5-44dd-feaa-bf03e5ce3b15"
      },
      "execution_count": null,
      "outputs": [
        {
          "output_type": "stream",
          "name": "stdout",
          "text": [
            "        Date       Open       High        Low      Close  Adj Close  Volume  \\\n",
            "0 2003-12-01  45.709000  45.728001  45.449001  45.480000  45.480000     0.0   \n",
            "1 2003-12-08  45.474998  45.507999  45.352001  45.451000  45.451000     0.0   \n",
            "2 2003-12-15  45.450001  45.500000  45.332001  45.455002  45.455002     0.0   \n",
            "3 2003-12-22  45.417000  45.549000  45.296001  45.507999  45.507999     0.0   \n",
            "4 2003-12-29  45.439999  45.645000  45.421001  45.560001  45.560001     0.0   \n",
            "\n",
            "   Year  Month  \n",
            "0  2003     12  \n",
            "1  2003     12  \n",
            "2  2003     12  \n",
            "3  2003     12  \n",
            "4  2003     12  \n"
          ]
        }
      ]
    },
    {
      "cell_type": "markdown",
      "source": [
        "a look at the aggregated yearly growth of the conversion rates between INR and USD:"
      ],
      "metadata": {
        "id": "qU3S0kb_94OL"
      }
    },
    {
      "cell_type": "code",
      "source": [
        "import plotly.graph_objs as go\n",
        "import plotly.io as pio\n",
        "\n",
        "# Calculate yearly growth\n",
        "growth = data.groupby('Year').agg({'Close': lambda x: (x.iloc[-1]-x.iloc[0])/x.iloc[0]*100})\n",
        "\n",
        "fig = go.Figure()\n",
        "fig.add_trace(go.Bar(x=growth.index,\n",
        "                     y=growth['Close'],\n",
        "                     name='Yearly Growth'))\n",
        "\n",
        "fig.update_layout(title=\"Yearly Growth of USD - INR Conversion Rate\",\n",
        "                  xaxis_title=\"Year\",\n",
        "                  yaxis_title=\"Growth (%)\",\n",
        "                  width=900,\n",
        "                  height=600)\n",
        "\n",
        "pio.show(fig)"
      ],
      "metadata": {
        "id": "HXHIesjH9wSr",
        "colab": {
          "base_uri": "https://localhost:8080/",
          "height": 617
        },
        "outputId": "38a91d42-7c27-4893-ec01-35ce3ed78e7f"
      },
      "execution_count": 17,
      "outputs": [
        {
          "output_type": "display_data",
          "data": {
            "text/html": [
              "<html>\n",
              "<head><meta charset=\"utf-8\" /></head>\n",
              "<body>\n",
              "    <div>            <script src=\"https://cdnjs.cloudflare.com/ajax/libs/mathjax/2.7.5/MathJax.js?config=TeX-AMS-MML_SVG\"></script><script type=\"text/javascript\">if (window.MathJax && window.MathJax.Hub && window.MathJax.Hub.Config) {window.MathJax.Hub.Config({SVG: {font: \"STIX-Web\"}});}</script>                <script type=\"text/javascript\">window.PlotlyConfig = {MathJaxConfig: 'local'};</script>\n",
              "        <script charset=\"utf-8\" src=\"https://cdn.plot.ly/plotly-2.24.1.min.js\"></script>                <div id=\"6bd6665c-2850-4377-9b47-ff9d9c92ef8a\" class=\"plotly-graph-div\" style=\"height:600px; width:900px;\"></div>            <script type=\"text/javascript\">                                    window.PLOTLYENV=window.PLOTLYENV || {};                                    if (document.getElementById(\"6bd6665c-2850-4377-9b47-ff9d9c92ef8a\")) {                    Plotly.newPlot(                        \"6bd6665c-2850-4377-9b47-ff9d9c92ef8a\",                        [{\"name\":\"Yearly Growth\",\"x\":[2003,2004,2005,2006,2007,2008,2009,2010,2011,2012,2013,2014,2015,2016,2017,2018,2019,2020,2021,2022,2023],\"y\":[0.17590369393140476,-4.50486849221104,2.596276633594723,-1.0337056179775357,-11.589778118729575,23.404521718774213,-3.484973049613268,-1.5554307502337272,17.30854360336432,4.190004366563511,13.417656922067497,2.5846370863384918,5.624883602873603,1.5298680990979856,-6.312937775885602,9.77689672050906,1.9340627284043237,3.014671556607703,1.4416669103971447,11.10850265821375,-0.4139984443288148],\"type\":\"bar\"}],                        {\"template\":{\"data\":{\"histogram2dcontour\":[{\"type\":\"histogram2dcontour\",\"colorbar\":{\"outlinewidth\":0,\"ticks\":\"\"},\"colorscale\":[[0.0,\"#0d0887\"],[0.1111111111111111,\"#46039f\"],[0.2222222222222222,\"#7201a8\"],[0.3333333333333333,\"#9c179e\"],[0.4444444444444444,\"#bd3786\"],[0.5555555555555556,\"#d8576b\"],[0.6666666666666666,\"#ed7953\"],[0.7777777777777778,\"#fb9f3a\"],[0.8888888888888888,\"#fdca26\"],[1.0,\"#f0f921\"]]}],\"choropleth\":[{\"type\":\"choropleth\",\"colorbar\":{\"outlinewidth\":0,\"ticks\":\"\"}}],\"histogram2d\":[{\"type\":\"histogram2d\",\"colorbar\":{\"outlinewidth\":0,\"ticks\":\"\"},\"colorscale\":[[0.0,\"#0d0887\"],[0.1111111111111111,\"#46039f\"],[0.2222222222222222,\"#7201a8\"],[0.3333333333333333,\"#9c179e\"],[0.4444444444444444,\"#bd3786\"],[0.5555555555555556,\"#d8576b\"],[0.6666666666666666,\"#ed7953\"],[0.7777777777777778,\"#fb9f3a\"],[0.8888888888888888,\"#fdca26\"],[1.0,\"#f0f921\"]]}],\"heatmap\":[{\"type\":\"heatmap\",\"colorbar\":{\"outlinewidth\":0,\"ticks\":\"\"},\"colorscale\":[[0.0,\"#0d0887\"],[0.1111111111111111,\"#46039f\"],[0.2222222222222222,\"#7201a8\"],[0.3333333333333333,\"#9c179e\"],[0.4444444444444444,\"#bd3786\"],[0.5555555555555556,\"#d8576b\"],[0.6666666666666666,\"#ed7953\"],[0.7777777777777778,\"#fb9f3a\"],[0.8888888888888888,\"#fdca26\"],[1.0,\"#f0f921\"]]}],\"heatmapgl\":[{\"type\":\"heatmapgl\",\"colorbar\":{\"outlinewidth\":0,\"ticks\":\"\"},\"colorscale\":[[0.0,\"#0d0887\"],[0.1111111111111111,\"#46039f\"],[0.2222222222222222,\"#7201a8\"],[0.3333333333333333,\"#9c179e\"],[0.4444444444444444,\"#bd3786\"],[0.5555555555555556,\"#d8576b\"],[0.6666666666666666,\"#ed7953\"],[0.7777777777777778,\"#fb9f3a\"],[0.8888888888888888,\"#fdca26\"],[1.0,\"#f0f921\"]]}],\"contourcarpet\":[{\"type\":\"contourcarpet\",\"colorbar\":{\"outlinewidth\":0,\"ticks\":\"\"}}],\"contour\":[{\"type\":\"contour\",\"colorbar\":{\"outlinewidth\":0,\"ticks\":\"\"},\"colorscale\":[[0.0,\"#0d0887\"],[0.1111111111111111,\"#46039f\"],[0.2222222222222222,\"#7201a8\"],[0.3333333333333333,\"#9c179e\"],[0.4444444444444444,\"#bd3786\"],[0.5555555555555556,\"#d8576b\"],[0.6666666666666666,\"#ed7953\"],[0.7777777777777778,\"#fb9f3a\"],[0.8888888888888888,\"#fdca26\"],[1.0,\"#f0f921\"]]}],\"surface\":[{\"type\":\"surface\",\"colorbar\":{\"outlinewidth\":0,\"ticks\":\"\"},\"colorscale\":[[0.0,\"#0d0887\"],[0.1111111111111111,\"#46039f\"],[0.2222222222222222,\"#7201a8\"],[0.3333333333333333,\"#9c179e\"],[0.4444444444444444,\"#bd3786\"],[0.5555555555555556,\"#d8576b\"],[0.6666666666666666,\"#ed7953\"],[0.7777777777777778,\"#fb9f3a\"],[0.8888888888888888,\"#fdca26\"],[1.0,\"#f0f921\"]]}],\"mesh3d\":[{\"type\":\"mesh3d\",\"colorbar\":{\"outlinewidth\":0,\"ticks\":\"\"}}],\"scatter\":[{\"fillpattern\":{\"fillmode\":\"overlay\",\"size\":10,\"solidity\":0.2},\"type\":\"scatter\"}],\"parcoords\":[{\"type\":\"parcoords\",\"line\":{\"colorbar\":{\"outlinewidth\":0,\"ticks\":\"\"}}}],\"scatterpolargl\":[{\"type\":\"scatterpolargl\",\"marker\":{\"colorbar\":{\"outlinewidth\":0,\"ticks\":\"\"}}}],\"bar\":[{\"error_x\":{\"color\":\"#2a3f5f\"},\"error_y\":{\"color\":\"#2a3f5f\"},\"marker\":{\"line\":{\"color\":\"#E5ECF6\",\"width\":0.5},\"pattern\":{\"fillmode\":\"overlay\",\"size\":10,\"solidity\":0.2}},\"type\":\"bar\"}],\"scattergeo\":[{\"type\":\"scattergeo\",\"marker\":{\"colorbar\":{\"outlinewidth\":0,\"ticks\":\"\"}}}],\"scatterpolar\":[{\"type\":\"scatterpolar\",\"marker\":{\"colorbar\":{\"outlinewidth\":0,\"ticks\":\"\"}}}],\"histogram\":[{\"marker\":{\"pattern\":{\"fillmode\":\"overlay\",\"size\":10,\"solidity\":0.2}},\"type\":\"histogram\"}],\"scattergl\":[{\"type\":\"scattergl\",\"marker\":{\"colorbar\":{\"outlinewidth\":0,\"ticks\":\"\"}}}],\"scatter3d\":[{\"type\":\"scatter3d\",\"line\":{\"colorbar\":{\"outlinewidth\":0,\"ticks\":\"\"}},\"marker\":{\"colorbar\":{\"outlinewidth\":0,\"ticks\":\"\"}}}],\"scattermapbox\":[{\"type\":\"scattermapbox\",\"marker\":{\"colorbar\":{\"outlinewidth\":0,\"ticks\":\"\"}}}],\"scatterternary\":[{\"type\":\"scatterternary\",\"marker\":{\"colorbar\":{\"outlinewidth\":0,\"ticks\":\"\"}}}],\"scattercarpet\":[{\"type\":\"scattercarpet\",\"marker\":{\"colorbar\":{\"outlinewidth\":0,\"ticks\":\"\"}}}],\"carpet\":[{\"aaxis\":{\"endlinecolor\":\"#2a3f5f\",\"gridcolor\":\"white\",\"linecolor\":\"white\",\"minorgridcolor\":\"white\",\"startlinecolor\":\"#2a3f5f\"},\"baxis\":{\"endlinecolor\":\"#2a3f5f\",\"gridcolor\":\"white\",\"linecolor\":\"white\",\"minorgridcolor\":\"white\",\"startlinecolor\":\"#2a3f5f\"},\"type\":\"carpet\"}],\"table\":[{\"cells\":{\"fill\":{\"color\":\"#EBF0F8\"},\"line\":{\"color\":\"white\"}},\"header\":{\"fill\":{\"color\":\"#C8D4E3\"},\"line\":{\"color\":\"white\"}},\"type\":\"table\"}],\"barpolar\":[{\"marker\":{\"line\":{\"color\":\"#E5ECF6\",\"width\":0.5},\"pattern\":{\"fillmode\":\"overlay\",\"size\":10,\"solidity\":0.2}},\"type\":\"barpolar\"}],\"pie\":[{\"automargin\":true,\"type\":\"pie\"}]},\"layout\":{\"autotypenumbers\":\"strict\",\"colorway\":[\"#636efa\",\"#EF553B\",\"#00cc96\",\"#ab63fa\",\"#FFA15A\",\"#19d3f3\",\"#FF6692\",\"#B6E880\",\"#FF97FF\",\"#FECB52\"],\"font\":{\"color\":\"#2a3f5f\"},\"hovermode\":\"closest\",\"hoverlabel\":{\"align\":\"left\"},\"paper_bgcolor\":\"white\",\"plot_bgcolor\":\"#E5ECF6\",\"polar\":{\"bgcolor\":\"#E5ECF6\",\"angularaxis\":{\"gridcolor\":\"white\",\"linecolor\":\"white\",\"ticks\":\"\"},\"radialaxis\":{\"gridcolor\":\"white\",\"linecolor\":\"white\",\"ticks\":\"\"}},\"ternary\":{\"bgcolor\":\"#E5ECF6\",\"aaxis\":{\"gridcolor\":\"white\",\"linecolor\":\"white\",\"ticks\":\"\"},\"baxis\":{\"gridcolor\":\"white\",\"linecolor\":\"white\",\"ticks\":\"\"},\"caxis\":{\"gridcolor\":\"white\",\"linecolor\":\"white\",\"ticks\":\"\"}},\"coloraxis\":{\"colorbar\":{\"outlinewidth\":0,\"ticks\":\"\"}},\"colorscale\":{\"sequential\":[[0.0,\"#0d0887\"],[0.1111111111111111,\"#46039f\"],[0.2222222222222222,\"#7201a8\"],[0.3333333333333333,\"#9c179e\"],[0.4444444444444444,\"#bd3786\"],[0.5555555555555556,\"#d8576b\"],[0.6666666666666666,\"#ed7953\"],[0.7777777777777778,\"#fb9f3a\"],[0.8888888888888888,\"#fdca26\"],[1.0,\"#f0f921\"]],\"sequentialminus\":[[0.0,\"#0d0887\"],[0.1111111111111111,\"#46039f\"],[0.2222222222222222,\"#7201a8\"],[0.3333333333333333,\"#9c179e\"],[0.4444444444444444,\"#bd3786\"],[0.5555555555555556,\"#d8576b\"],[0.6666666666666666,\"#ed7953\"],[0.7777777777777778,\"#fb9f3a\"],[0.8888888888888888,\"#fdca26\"],[1.0,\"#f0f921\"]],\"diverging\":[[0,\"#8e0152\"],[0.1,\"#c51b7d\"],[0.2,\"#de77ae\"],[0.3,\"#f1b6da\"],[0.4,\"#fde0ef\"],[0.5,\"#f7f7f7\"],[0.6,\"#e6f5d0\"],[0.7,\"#b8e186\"],[0.8,\"#7fbc41\"],[0.9,\"#4d9221\"],[1,\"#276419\"]]},\"xaxis\":{\"gridcolor\":\"white\",\"linecolor\":\"white\",\"ticks\":\"\",\"title\":{\"standoff\":15},\"zerolinecolor\":\"white\",\"automargin\":true,\"zerolinewidth\":2},\"yaxis\":{\"gridcolor\":\"white\",\"linecolor\":\"white\",\"ticks\":\"\",\"title\":{\"standoff\":15},\"zerolinecolor\":\"white\",\"automargin\":true,\"zerolinewidth\":2},\"scene\":{\"xaxis\":{\"backgroundcolor\":\"#E5ECF6\",\"gridcolor\":\"white\",\"linecolor\":\"white\",\"showbackground\":true,\"ticks\":\"\",\"zerolinecolor\":\"white\",\"gridwidth\":2},\"yaxis\":{\"backgroundcolor\":\"#E5ECF6\",\"gridcolor\":\"white\",\"linecolor\":\"white\",\"showbackground\":true,\"ticks\":\"\",\"zerolinecolor\":\"white\",\"gridwidth\":2},\"zaxis\":{\"backgroundcolor\":\"#E5ECF6\",\"gridcolor\":\"white\",\"linecolor\":\"white\",\"showbackground\":true,\"ticks\":\"\",\"zerolinecolor\":\"white\",\"gridwidth\":2}},\"shapedefaults\":{\"line\":{\"color\":\"#2a3f5f\"}},\"annotationdefaults\":{\"arrowcolor\":\"#2a3f5f\",\"arrowhead\":0,\"arrowwidth\":1},\"geo\":{\"bgcolor\":\"white\",\"landcolor\":\"#E5ECF6\",\"subunitcolor\":\"white\",\"showland\":true,\"showlakes\":true,\"lakecolor\":\"white\"},\"title\":{\"x\":0.05},\"mapbox\":{\"style\":\"light\"}}},\"title\":{\"text\":\"Yearly Growth of USD - INR Conversion Rate\"},\"xaxis\":{\"title\":{\"text\":\"Year\"}},\"yaxis\":{\"title\":{\"text\":\"Growth (%)\"}},\"width\":900,\"height\":600},                        {\"responsive\": true}                    ).then(function(){\n",
              "                            \n",
              "var gd = document.getElementById('6bd6665c-2850-4377-9b47-ff9d9c92ef8a');\n",
              "var x = new MutationObserver(function (mutations, observer) {{\n",
              "        var display = window.getComputedStyle(gd).display;\n",
              "        if (!display || display === 'none') {{\n",
              "            console.log([gd, 'removed!']);\n",
              "            Plotly.purge(gd);\n",
              "            observer.disconnect();\n",
              "        }}\n",
              "}});\n",
              "\n",
              "// Listen for the removal of the full notebook cells\n",
              "var notebookContainer = gd.closest('#notebook-container');\n",
              "if (notebookContainer) {{\n",
              "    x.observe(notebookContainer, {childList: true});\n",
              "}}\n",
              "\n",
              "// Listen for the clearing of the current output cell\n",
              "var outputEl = gd.closest('.output');\n",
              "if (outputEl) {{\n",
              "    x.observe(outputEl, {childList: true});\n",
              "}}\n",
              "\n",
              "                        })                };                            </script>        </div>\n",
              "</body>\n",
              "</html>"
            ]
          },
          "metadata": {}
        }
      ]
    },
    {
      "cell_type": "markdown",
      "source": [
        "monthly growth."
      ],
      "metadata": {
        "id": "KYv-3p9OFiKa"
      }
    },
    {
      "cell_type": "code",
      "source": [
        "data['Growth'] = data.groupby(['Year', \"Month\"]) [ 'Close'].transform(lambda x: (x.iloc[-1] - x.iloc[0]/ x.iloc[0] * 100))\n",
        "\n",
        "\n",
        "# group data by month and callculating the average growth\n",
        "grouped_Data = data.groupby('Month').mean().reset_index()\n",
        "\n",
        "fig = go.Figure()\n",
        "\n",
        "fig.add_trace(go.Bar(x = grouped_Data['Month'], y = grouped_Data['Growth'], marker_color = grouped_Data['Growth'], hovertemplate =' Month: %{x}<br> Average Growth: % {y:.2f}% <extra><extra>'))\n",
        "\n",
        "fig.update_layout(\n",
        "    title=\"Aggregated Monthly Growth of USD - INR Conversion Rate\",\n",
        "    xaxis_title=\"Month\",\n",
        "    yaxis_title=\"Average Growth (%)\",\n",
        "    width=600,\n",
        "    height=400\n",
        ")\n",
        "\n",
        "pio.show(fig)"
      ],
      "metadata": {
        "colab": {
          "base_uri": "https://localhost:8080/",
          "height": 417
        },
        "id": "riVpfszTDer1",
        "outputId": "df99124d-edf4-4f41-e9aa-0779f1ea196a"
      },
      "execution_count": 25,
      "outputs": [
        {
          "output_type": "display_data",
          "data": {
            "text/html": [
              "<html>\n",
              "<head><meta charset=\"utf-8\" /></head>\n",
              "<body>\n",
              "    <div>            <script src=\"https://cdnjs.cloudflare.com/ajax/libs/mathjax/2.7.5/MathJax.js?config=TeX-AMS-MML_SVG\"></script><script type=\"text/javascript\">if (window.MathJax && window.MathJax.Hub && window.MathJax.Hub.Config) {window.MathJax.Hub.Config({SVG: {font: \"STIX-Web\"}});}</script>                <script type=\"text/javascript\">window.PlotlyConfig = {MathJaxConfig: 'local'};</script>\n",
              "        <script charset=\"utf-8\" src=\"https://cdn.plot.ly/plotly-2.24.1.min.js\"></script>                <div id=\"4f84edf6-1039-46e1-8511-180bbeb218ce\" class=\"plotly-graph-div\" style=\"height:400px; width:600px;\"></div>            <script type=\"text/javascript\">                                    window.PLOTLYENV=window.PLOTLYENV || {};                                    if (document.getElementById(\"4f84edf6-1039-46e1-8511-180bbeb218ce\")) {                    Plotly.newPlot(                        \"4f84edf6-1039-46e1-8511-180bbeb218ce\",                        [{\"hovertemplate\":\" Month: %{x}\\u003cbr\\u003e Average Growth: % {y:.2f}% \\u003cextra\\u003e\\u003cextra\\u003e\",\"marker\":{\"color\":[-42.33711930337079,-41.85462441975309,-42.38810331818182,-42.19448555294118,-42.119758261363636,-42.43745303703704,-42.31676977108434,-40.97455660240964,-41.5541212375,-41.51153345882353,-41.27906737804878,-42.14332646590909]},\"x\":[1,2,3,4,5,6,7,8,9,10,11,12],\"y\":[-42.33711930337079,-41.85462441975309,-42.38810331818182,-42.19448555294118,-42.119758261363636,-42.43745303703704,-42.31676977108434,-40.97455660240964,-41.5541212375,-41.51153345882353,-41.27906737804878,-42.14332646590909],\"type\":\"bar\"}],                        {\"template\":{\"data\":{\"histogram2dcontour\":[{\"type\":\"histogram2dcontour\",\"colorbar\":{\"outlinewidth\":0,\"ticks\":\"\"},\"colorscale\":[[0.0,\"#0d0887\"],[0.1111111111111111,\"#46039f\"],[0.2222222222222222,\"#7201a8\"],[0.3333333333333333,\"#9c179e\"],[0.4444444444444444,\"#bd3786\"],[0.5555555555555556,\"#d8576b\"],[0.6666666666666666,\"#ed7953\"],[0.7777777777777778,\"#fb9f3a\"],[0.8888888888888888,\"#fdca26\"],[1.0,\"#f0f921\"]]}],\"choropleth\":[{\"type\":\"choropleth\",\"colorbar\":{\"outlinewidth\":0,\"ticks\":\"\"}}],\"histogram2d\":[{\"type\":\"histogram2d\",\"colorbar\":{\"outlinewidth\":0,\"ticks\":\"\"},\"colorscale\":[[0.0,\"#0d0887\"],[0.1111111111111111,\"#46039f\"],[0.2222222222222222,\"#7201a8\"],[0.3333333333333333,\"#9c179e\"],[0.4444444444444444,\"#bd3786\"],[0.5555555555555556,\"#d8576b\"],[0.6666666666666666,\"#ed7953\"],[0.7777777777777778,\"#fb9f3a\"],[0.8888888888888888,\"#fdca26\"],[1.0,\"#f0f921\"]]}],\"heatmap\":[{\"type\":\"heatmap\",\"colorbar\":{\"outlinewidth\":0,\"ticks\":\"\"},\"colorscale\":[[0.0,\"#0d0887\"],[0.1111111111111111,\"#46039f\"],[0.2222222222222222,\"#7201a8\"],[0.3333333333333333,\"#9c179e\"],[0.4444444444444444,\"#bd3786\"],[0.5555555555555556,\"#d8576b\"],[0.6666666666666666,\"#ed7953\"],[0.7777777777777778,\"#fb9f3a\"],[0.8888888888888888,\"#fdca26\"],[1.0,\"#f0f921\"]]}],\"heatmapgl\":[{\"type\":\"heatmapgl\",\"colorbar\":{\"outlinewidth\":0,\"ticks\":\"\"},\"colorscale\":[[0.0,\"#0d0887\"],[0.1111111111111111,\"#46039f\"],[0.2222222222222222,\"#7201a8\"],[0.3333333333333333,\"#9c179e\"],[0.4444444444444444,\"#bd3786\"],[0.5555555555555556,\"#d8576b\"],[0.6666666666666666,\"#ed7953\"],[0.7777777777777778,\"#fb9f3a\"],[0.8888888888888888,\"#fdca26\"],[1.0,\"#f0f921\"]]}],\"contourcarpet\":[{\"type\":\"contourcarpet\",\"colorbar\":{\"outlinewidth\":0,\"ticks\":\"\"}}],\"contour\":[{\"type\":\"contour\",\"colorbar\":{\"outlinewidth\":0,\"ticks\":\"\"},\"colorscale\":[[0.0,\"#0d0887\"],[0.1111111111111111,\"#46039f\"],[0.2222222222222222,\"#7201a8\"],[0.3333333333333333,\"#9c179e\"],[0.4444444444444444,\"#bd3786\"],[0.5555555555555556,\"#d8576b\"],[0.6666666666666666,\"#ed7953\"],[0.7777777777777778,\"#fb9f3a\"],[0.8888888888888888,\"#fdca26\"],[1.0,\"#f0f921\"]]}],\"surface\":[{\"type\":\"surface\",\"colorbar\":{\"outlinewidth\":0,\"ticks\":\"\"},\"colorscale\":[[0.0,\"#0d0887\"],[0.1111111111111111,\"#46039f\"],[0.2222222222222222,\"#7201a8\"],[0.3333333333333333,\"#9c179e\"],[0.4444444444444444,\"#bd3786\"],[0.5555555555555556,\"#d8576b\"],[0.6666666666666666,\"#ed7953\"],[0.7777777777777778,\"#fb9f3a\"],[0.8888888888888888,\"#fdca26\"],[1.0,\"#f0f921\"]]}],\"mesh3d\":[{\"type\":\"mesh3d\",\"colorbar\":{\"outlinewidth\":0,\"ticks\":\"\"}}],\"scatter\":[{\"fillpattern\":{\"fillmode\":\"overlay\",\"size\":10,\"solidity\":0.2},\"type\":\"scatter\"}],\"parcoords\":[{\"type\":\"parcoords\",\"line\":{\"colorbar\":{\"outlinewidth\":0,\"ticks\":\"\"}}}],\"scatterpolargl\":[{\"type\":\"scatterpolargl\",\"marker\":{\"colorbar\":{\"outlinewidth\":0,\"ticks\":\"\"}}}],\"bar\":[{\"error_x\":{\"color\":\"#2a3f5f\"},\"error_y\":{\"color\":\"#2a3f5f\"},\"marker\":{\"line\":{\"color\":\"#E5ECF6\",\"width\":0.5},\"pattern\":{\"fillmode\":\"overlay\",\"size\":10,\"solidity\":0.2}},\"type\":\"bar\"}],\"scattergeo\":[{\"type\":\"scattergeo\",\"marker\":{\"colorbar\":{\"outlinewidth\":0,\"ticks\":\"\"}}}],\"scatterpolar\":[{\"type\":\"scatterpolar\",\"marker\":{\"colorbar\":{\"outlinewidth\":0,\"ticks\":\"\"}}}],\"histogram\":[{\"marker\":{\"pattern\":{\"fillmode\":\"overlay\",\"size\":10,\"solidity\":0.2}},\"type\":\"histogram\"}],\"scattergl\":[{\"type\":\"scattergl\",\"marker\":{\"colorbar\":{\"outlinewidth\":0,\"ticks\":\"\"}}}],\"scatter3d\":[{\"type\":\"scatter3d\",\"line\":{\"colorbar\":{\"outlinewidth\":0,\"ticks\":\"\"}},\"marker\":{\"colorbar\":{\"outlinewidth\":0,\"ticks\":\"\"}}}],\"scattermapbox\":[{\"type\":\"scattermapbox\",\"marker\":{\"colorbar\":{\"outlinewidth\":0,\"ticks\":\"\"}}}],\"scatterternary\":[{\"type\":\"scatterternary\",\"marker\":{\"colorbar\":{\"outlinewidth\":0,\"ticks\":\"\"}}}],\"scattercarpet\":[{\"type\":\"scattercarpet\",\"marker\":{\"colorbar\":{\"outlinewidth\":0,\"ticks\":\"\"}}}],\"carpet\":[{\"aaxis\":{\"endlinecolor\":\"#2a3f5f\",\"gridcolor\":\"white\",\"linecolor\":\"white\",\"minorgridcolor\":\"white\",\"startlinecolor\":\"#2a3f5f\"},\"baxis\":{\"endlinecolor\":\"#2a3f5f\",\"gridcolor\":\"white\",\"linecolor\":\"white\",\"minorgridcolor\":\"white\",\"startlinecolor\":\"#2a3f5f\"},\"type\":\"carpet\"}],\"table\":[{\"cells\":{\"fill\":{\"color\":\"#EBF0F8\"},\"line\":{\"color\":\"white\"}},\"header\":{\"fill\":{\"color\":\"#C8D4E3\"},\"line\":{\"color\":\"white\"}},\"type\":\"table\"}],\"barpolar\":[{\"marker\":{\"line\":{\"color\":\"#E5ECF6\",\"width\":0.5},\"pattern\":{\"fillmode\":\"overlay\",\"size\":10,\"solidity\":0.2}},\"type\":\"barpolar\"}],\"pie\":[{\"automargin\":true,\"type\":\"pie\"}]},\"layout\":{\"autotypenumbers\":\"strict\",\"colorway\":[\"#636efa\",\"#EF553B\",\"#00cc96\",\"#ab63fa\",\"#FFA15A\",\"#19d3f3\",\"#FF6692\",\"#B6E880\",\"#FF97FF\",\"#FECB52\"],\"font\":{\"color\":\"#2a3f5f\"},\"hovermode\":\"closest\",\"hoverlabel\":{\"align\":\"left\"},\"paper_bgcolor\":\"white\",\"plot_bgcolor\":\"#E5ECF6\",\"polar\":{\"bgcolor\":\"#E5ECF6\",\"angularaxis\":{\"gridcolor\":\"white\",\"linecolor\":\"white\",\"ticks\":\"\"},\"radialaxis\":{\"gridcolor\":\"white\",\"linecolor\":\"white\",\"ticks\":\"\"}},\"ternary\":{\"bgcolor\":\"#E5ECF6\",\"aaxis\":{\"gridcolor\":\"white\",\"linecolor\":\"white\",\"ticks\":\"\"},\"baxis\":{\"gridcolor\":\"white\",\"linecolor\":\"white\",\"ticks\":\"\"},\"caxis\":{\"gridcolor\":\"white\",\"linecolor\":\"white\",\"ticks\":\"\"}},\"coloraxis\":{\"colorbar\":{\"outlinewidth\":0,\"ticks\":\"\"}},\"colorscale\":{\"sequential\":[[0.0,\"#0d0887\"],[0.1111111111111111,\"#46039f\"],[0.2222222222222222,\"#7201a8\"],[0.3333333333333333,\"#9c179e\"],[0.4444444444444444,\"#bd3786\"],[0.5555555555555556,\"#d8576b\"],[0.6666666666666666,\"#ed7953\"],[0.7777777777777778,\"#fb9f3a\"],[0.8888888888888888,\"#fdca26\"],[1.0,\"#f0f921\"]],\"sequentialminus\":[[0.0,\"#0d0887\"],[0.1111111111111111,\"#46039f\"],[0.2222222222222222,\"#7201a8\"],[0.3333333333333333,\"#9c179e\"],[0.4444444444444444,\"#bd3786\"],[0.5555555555555556,\"#d8576b\"],[0.6666666666666666,\"#ed7953\"],[0.7777777777777778,\"#fb9f3a\"],[0.8888888888888888,\"#fdca26\"],[1.0,\"#f0f921\"]],\"diverging\":[[0,\"#8e0152\"],[0.1,\"#c51b7d\"],[0.2,\"#de77ae\"],[0.3,\"#f1b6da\"],[0.4,\"#fde0ef\"],[0.5,\"#f7f7f7\"],[0.6,\"#e6f5d0\"],[0.7,\"#b8e186\"],[0.8,\"#7fbc41\"],[0.9,\"#4d9221\"],[1,\"#276419\"]]},\"xaxis\":{\"gridcolor\":\"white\",\"linecolor\":\"white\",\"ticks\":\"\",\"title\":{\"standoff\":15},\"zerolinecolor\":\"white\",\"automargin\":true,\"zerolinewidth\":2},\"yaxis\":{\"gridcolor\":\"white\",\"linecolor\":\"white\",\"ticks\":\"\",\"title\":{\"standoff\":15},\"zerolinecolor\":\"white\",\"automargin\":true,\"zerolinewidth\":2},\"scene\":{\"xaxis\":{\"backgroundcolor\":\"#E5ECF6\",\"gridcolor\":\"white\",\"linecolor\":\"white\",\"showbackground\":true,\"ticks\":\"\",\"zerolinecolor\":\"white\",\"gridwidth\":2},\"yaxis\":{\"backgroundcolor\":\"#E5ECF6\",\"gridcolor\":\"white\",\"linecolor\":\"white\",\"showbackground\":true,\"ticks\":\"\",\"zerolinecolor\":\"white\",\"gridwidth\":2},\"zaxis\":{\"backgroundcolor\":\"#E5ECF6\",\"gridcolor\":\"white\",\"linecolor\":\"white\",\"showbackground\":true,\"ticks\":\"\",\"zerolinecolor\":\"white\",\"gridwidth\":2}},\"shapedefaults\":{\"line\":{\"color\":\"#2a3f5f\"}},\"annotationdefaults\":{\"arrowcolor\":\"#2a3f5f\",\"arrowhead\":0,\"arrowwidth\":1},\"geo\":{\"bgcolor\":\"white\",\"landcolor\":\"#E5ECF6\",\"subunitcolor\":\"white\",\"showland\":true,\"showlakes\":true,\"lakecolor\":\"white\"},\"title\":{\"x\":0.05},\"mapbox\":{\"style\":\"light\"}}},\"title\":{\"text\":\"Aggregated Monthly Growth of USD - INR Conversion Rate\"},\"xaxis\":{\"title\":{\"text\":\"Month\"}},\"yaxis\":{\"title\":{\"text\":\"Average Growth (%)\"}},\"width\":600,\"height\":400},                        {\"responsive\": true}                    ).then(function(){\n",
              "                            \n",
              "var gd = document.getElementById('4f84edf6-1039-46e1-8511-180bbeb218ce');\n",
              "var x = new MutationObserver(function (mutations, observer) {{\n",
              "        var display = window.getComputedStyle(gd).display;\n",
              "        if (!display || display === 'none') {{\n",
              "            console.log([gd, 'removed!']);\n",
              "            Plotly.purge(gd);\n",
              "            observer.disconnect();\n",
              "        }}\n",
              "}});\n",
              "\n",
              "// Listen for the removal of the full notebook cells\n",
              "var notebookContainer = gd.closest('#notebook-container');\n",
              "if (notebookContainer) {{\n",
              "    x.observe(notebookContainer, {childList: true});\n",
              "}}\n",
              "\n",
              "// Listen for the clearing of the current output cell\n",
              "var outputEl = gd.closest('.output');\n",
              "if (outputEl) {{\n",
              "    x.observe(outputEl, {childList: true});\n",
              "}}\n",
              "\n",
              "                        })                };                            </script>        </div>\n",
              "</body>\n",
              "</html>"
            ]
          },
          "metadata": {}
        }
      ]
    },
    {
      "cell_type": "markdown",
      "source": [
        "Forecasting Exchange Rates Using Time Series Forecasting"
      ],
      "metadata": {
        "id": "ZamrtGq-L_We"
      }
    },
    {
      "cell_type": "markdown",
      "source": [
        "We will use time series forecasting to forecast exchange rates. To choose the most appropriate time series forecasting model, we need to perform seasonal decomposition, which will help us identify any recurring patterns, long-term trends, and random fluctuations present in the USD – INR exchange rate data:"
      ],
      "metadata": {
        "id": "sYsEOkFuMCCc"
      }
    },
    {
      "cell_type": "code",
      "source": [
        "from statsmodels.tsa.seasonal import seasonal_decompose\n",
        "result = seasonal_decompose(data[\"Close\"], model='multiplicative', period=24)\n",
        "fig = plt.figure()\n",
        "fig = result.plot()\n",
        "fig.set_size_inches(8, 6)\n",
        "fig.show()"
      ],
      "metadata": {
        "colab": {
          "base_uri": "https://localhost:8080/",
          "height": 605
        },
        "id": "RUTSApc1Ehk1",
        "outputId": "d3e19395-6e69-4c12-da8c-7e843dfc6d6a"
      },
      "execution_count": 26,
      "outputs": [
        {
          "output_type": "display_data",
          "data": {
            "text/plain": [
              "<Figure size 640x480 with 0 Axes>"
            ]
          },
          "metadata": {}
        },
        {
          "output_type": "display_data",
          "data": {
            "text/plain": [
              "<Figure size 800x600 with 4 Axes>"
            ],
            "image/png": "[encoded data removed]"
          },
          "metadata": {}
        }
      ]
    },
    {
      "cell_type": "code",
      "source": [
        "!pip install pmdarima\n",
        "\n",
        "from pmdarima.arima import auto_arima\n",
        "model = auto_arima(data['Close'], seasonal=True, m=52, suppress_warnings=True)\n",
        "print(model.order)"
      ],
      "metadata": {
        "colab": {
          "base_uri": "https://localhost:8080/"
        },
        "id": "DcZpB05vMGeN",
        "outputId": "7d820a6f-402d-4202-c91c-e95a7a12c3f6"
      },
      "execution_count": 31,
      "outputs": [
        {
          "output_type": "stream",
          "name": "stdout",
          "text": [
            "Requirement already satisfied: pmdarima in /usr/local/lib/python3.10/dist-packages (2.0.4)\n",
            "Requirement already satisfied: joblib>=0.11 in /usr/local/lib/python3.10/dist-packages (from pmdarima) (1.4.2)\n",
            "Requirement already satisfied: Cython!=0.29.18,!=0.29.31,>=0.29 in /usr/local/lib/python3.10/dist-packages (from pmdarima) (3.0.10)\n",
            "Requirement already satisfied: numpy>=1.21.2 in /usr/local/lib/python3.10/dist-packages (from pmdarima) (1.25.2)\n",
            "Requirement already satisfied: pandas>=0.19 in /usr/local/lib/python3.10/dist-packages (from pmdarima) (2.0.3)\n",
            "Requirement already satisfied: scikit-learn>=0.22 in /usr/local/lib/python3.10/dist-packages (from pmdarima) (1.2.2)\n",
            "Requirement already satisfied: scipy>=1.3.2 in /usr/local/lib/python3.10/dist-packages (from pmdarima) (1.11.4)\n",
            "Requirement already satisfied: statsmodels>=0.13.2 in /usr/local/lib/python3.10/dist-packages (from pmdarima) (0.14.2)\n",
            "Requirement already satisfied: urllib3 in /usr/local/lib/python3.10/dist-packages (from pmdarima) (2.0.7)\n",
            "Requirement already satisfied: setuptools!=50.0.0,>=38.6.0 in /usr/local/lib/python3.10/dist-packages (from pmdarima) (67.7.2)\n",
            "Requirement already satisfied: packaging>=17.1 in /usr/local/lib/python3.10/dist-packages (from pmdarima) (24.1)\n",
            "Requirement already satisfied: python-dateutil>=2.8.2 in /usr/local/lib/python3.10/dist-packages (from pandas>=0.19->pmdarima) (2.8.2)\n",
            "Requirement already satisfied: pytz>=2020.1 in /usr/local/lib/python3.10/dist-packages (from pandas>=0.19->pmdarima) (2023.4)\n",
            "Requirement already satisfied: tzdata>=2022.1 in /usr/local/lib/python3.10/dist-packages (from pandas>=0.19->pmdarima) (2024.1)\n",
            "Requirement already satisfied: threadpoolctl>=2.0.0 in /usr/local/lib/python3.10/dist-packages (from scikit-learn>=0.22->pmdarima) (3.5.0)\n",
            "Requirement already satisfied: patsy>=0.5.6 in /usr/local/lib/python3.10/dist-packages (from statsmodels>=0.13.2->pmdarima) (0.5.6)\n",
            "Requirement already satisfied: six in /usr/local/lib/python3.10/dist-packages (from patsy>=0.5.6->statsmodels>=0.13.2->pmdarima) (1.16.0)\n",
            "(2, 1, 0)\n"
          ]
        }
      ]
    },
    {
      "cell_type": "code",
      "source": [
        "from statsmodels.tsa.statespace.sarimax import SARIMAX\n",
        "model = SARIMAX(data[\"Close\"], order=(p, d, q),\n",
        "                seasonal_order=(p, d, q, 52))\n",
        "fitted = model.fit()\n",
        "print(fitted.summary())"
      ],
      "metadata": {
        "colab": {
          "base_uri": "https://localhost:8080/",
          "height": 220
        },
        "id": "yqehHTasMTrA",
        "outputId": "1023da54-70eb-4f77-8f7e-cc2988a6f99e"
      },
      "execution_count": 32,
      "outputs": [
        {
          "output_type": "error",
          "ename": "NameError",
          "evalue": "name 'p' is not defined",
          "traceback": [
            "\u001b[0;31m---------------------------------------------------------------------------\u001b[0m",
            "\u001b[0;31mNameError\u001b[0m                                 Traceback (most recent call last)",
            "\u001b[0;32m<ipython-input-32-1f5df1bc857e>\u001b[0m in \u001b[0;36m<cell line: 2>\u001b[0;34m()\u001b[0m\n\u001b[1;32m      1\u001b[0m \u001b[0;32mfrom\u001b[0m \u001b[0mstatsmodels\u001b[0m\u001b[0;34m.\u001b[0m\u001b[0mtsa\u001b[0m\u001b[0;34m.\u001b[0m\u001b[0mstatespace\u001b[0m\u001b[0;34m.\u001b[0m\u001b[0msarimax\u001b[0m \u001b[0;32mimport\u001b[0m \u001b[0mSARIMAX\u001b[0m\u001b[0;34m\u001b[0m\u001b[0;34m\u001b[0m\u001b[0m\n\u001b[0;32m----> 2\u001b[0;31m model = SARIMAX(data[\"Close\"], order=(p, d, q), \n\u001b[0m\u001b[1;32m      3\u001b[0m                 seasonal_order=(p, d, q, 52))  \n\u001b[1;32m      4\u001b[0m \u001b[0mfitted\u001b[0m \u001b[0;34m=\u001b[0m \u001b[0mmodel\u001b[0m\u001b[0;34m.\u001b[0m\u001b[0mfit\u001b[0m\u001b[0;34m(\u001b[0m\u001b[0;34m)\u001b[0m\u001b[0;34m\u001b[0m\u001b[0;34m\u001b[0m\u001b[0m\n\u001b[1;32m      5\u001b[0m \u001b[0mprint\u001b[0m\u001b[0;34m(\u001b[0m\u001b[0mfitted\u001b[0m\u001b[0;34m.\u001b[0m\u001b[0msummary\u001b[0m\u001b[0;34m(\u001b[0m\u001b[0;34m)\u001b[0m\u001b[0;34m)\u001b[0m\u001b[0;34m\u001b[0m\u001b[0;34m\u001b[0m\u001b[0m\n",
            "\u001b[0;31mNameError\u001b[0m: name 'p' is not defined"
          ]
        }
      ]
    },
    {
      "cell_type": "code",
      "source": [
        "predictions = fitted.predict(len(data), len(data)+60)\n",
        "print(predictions)"
      ],
      "metadata": {
        "colab": {
          "base_uri": "https://localhost:8080/",
          "height": 165
        },
        "id": "SwvouQJtOcWv",
        "outputId": "6115f48f-0daa-41b9-eb7a-2dc8406f620e"
      },
      "execution_count": 30,
      "outputs": [
        {
          "output_type": "error",
          "ename": "NameError",
          "evalue": "name 'fitted' is not defined",
          "traceback": [
            "\u001b[0;31m---------------------------------------------------------------------------\u001b[0m",
            "\u001b[0;31mNameError\u001b[0m                                 Traceback (most recent call last)",
            "\u001b[0;32m<ipython-input-30-a49f06389eda>\u001b[0m in \u001b[0;36m<cell line: 1>\u001b[0;34m()\u001b[0m\n\u001b[0;32m----> 1\u001b[0;31m \u001b[0mpredictions\u001b[0m \u001b[0;34m=\u001b[0m \u001b[0mfitted\u001b[0m\u001b[0;34m.\u001b[0m\u001b[0mpredict\u001b[0m\u001b[0;34m(\u001b[0m\u001b[0mlen\u001b[0m\u001b[0;34m(\u001b[0m\u001b[0mdata\u001b[0m\u001b[0;34m)\u001b[0m\u001b[0;34m,\u001b[0m \u001b[0mlen\u001b[0m\u001b[0;34m(\u001b[0m\u001b[0mdata\u001b[0m\u001b[0;34m)\u001b[0m\u001b[0;34m+\u001b[0m\u001b[0;36m60\u001b[0m\u001b[0;34m)\u001b[0m\u001b[0;34m\u001b[0m\u001b[0;34m\u001b[0m\u001b[0m\n\u001b[0m\u001b[1;32m      2\u001b[0m \u001b[0mprint\u001b[0m\u001b[0;34m(\u001b[0m\u001b[0mpredictions\u001b[0m\u001b[0;34m)\u001b[0m\u001b[0;34m\u001b[0m\u001b[0;34m\u001b[0m\u001b[0m\n",
            "\u001b[0;31mNameError\u001b[0m: name 'fitted' is not defined"
          ]
        }
      ]
    },
    {
      "cell_type": "code",
      "source": [
        "# Create figure\n",
        "fig = go.Figure()\n",
        "\n",
        "# Add training data line plot\n",
        "fig.add_trace(go.Scatter(\n",
        "    x=data.index,\n",
        "    y=data['Close'],\n",
        "    mode='lines',\n",
        "    name='Training Data',\n",
        "    line=dict(color='blue')\n",
        "))\n",
        "\n",
        "# Add predictions line plot\n",
        "fig.add_trace(go.Scatter(\n",
        "    x=predictions.index,\n",
        "    y=predictions,\n",
        "    mode='lines',\n",
        "    name='Predictions',\n",
        "    line=dict(color='green')\n",
        "))\n",
        "\n",
        "fig.update_layout(\n",
        "    title=\"INR Rate - Training Data and Predictions\",\n",
        "    xaxis_title=\"Date\",\n",
        "    yaxis_title=\"Close\",\n",
        "    legend_title=\"Data\",\n",
        "    width=900,\n",
        "    height=600\n",
        ")\n",
        "\n",
        "pio.show(fig)"
      ],
      "metadata": {
        "id": "EsqYSp44PQtC"
      },
      "execution_count": null,
      "outputs": []
    },
    {
      "cell_type": "markdown",
      "source": [
        "## conclusions-\n",
        "\n"
      ],
      "metadata": {
        "id": "ofMuarLQQU-N"
      }
    },
    {
      "cell_type": "markdown",
      "source": [
        "Currency exchange rate forecasting means predicting future fluctuations in the value of one currency against another. It involves the use of historical data, economic indicators, and mathematical models to make accurate predictions about the direction and magnitude of exchange rate movements. I hope you liked this article on Currency Exchange Rate Forecasting using Python."
      ],
      "metadata": {
        "id": "Ujirrw1SQYhN"
      }
    },
    {
      "cell_type": "code",
      "source": [],
      "metadata": {
        "id": "fHBHQEDhQQNZ"
      },
      "execution_count": null,
      "outputs": []
    }
  ]
}